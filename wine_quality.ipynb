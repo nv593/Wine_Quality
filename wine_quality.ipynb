{
 "cells": [
  {
   "cell_type": "markdown",
   "metadata": {},
   "source": [
    "- Student name: Nancy Lopez\n",
    "\n",
    "- Self-Paced"
   ]
  },
  {
   "cell_type": "markdown",
   "metadata": {},
   "source": [
    "# Wine Quality Control"
   ]
  },
  {
   "cell_type": "markdown",
   "metadata": {},
   "source": [
    "## Introduction\n",
    "The wine quality project aims to classify wines as either good or bad quality based on their physical and chemical characteristics. We will create a machine learning model that predicts whether a wine is of good quality or not, which can help wine the management of wine quality."
   ]
  },
  {
   "cell_type": "markdown",
   "metadata": {},
   "source": [
    "# Business Problem"
   ]
  },
  {
   "cell_type": "markdown",
   "metadata": {},
   "source": [
    "A prestigious winery that has built a reputation for producing high-quality red wines. The company's dedication to excellence has garnered a loyal customer base. However, the winery recognizes the paramount importance of continuously delivering exceptional wine and ensuring that every bottle consistently meets or exceeds customer expectations. Does the chemical composition of the wine, including levels of alcohol, acidity, sulfates, and other components, may be key factors in quality assessment?"
   ]
  },
  {
   "cell_type": "markdown",
   "metadata": {},
   "source": [
    "## Data:\n",
    "The dataset contains information on the chemical composition of red wines and their associated quality scores. The chemical properties include fixed acidity, volatile acidity, citric acid, residual sugar, chlorides, free sulfur dioxide, total sulfur dioxide, density, pH, sulphates, and alcohol. The wine quality is rated on a scale from 3 to 8, with scores 7 or above is good wine quality."
   ]
  },
  {
   "cell_type": "markdown",
   "metadata": {},
   "source": [
    "**Approach**:\n",
    "1. Data Exploration: We will begin by exploring the dataset to gain insights into the chemical properties of the wines and the distribution of quality scores.\n",
    "\n",
    "2. Data Preprocessing: This step involves handling missing values, addressing potential outliers, columns are in order, and preparing the data for modeling.\n",
    "\n",
    "3. Baseline Model: We will build a predictive model using machine learning algorithms to assess wine quality, starting off with a baseline model.\n",
    "\n",
    "4. Model Improvement: Once the model is trained and validated, we will explore options for improving.\n",
    "\n",
    "5. Feature Importance Analysis: We will determine which chemical properties have the most significant influence on wine quality.\n",
    "\n",
    "\n",
    "**Objective:** The primary objective of this project is to develop a predictive model that can assess the quality of red wine produced by the winery. The model will serve two main purposes:\n",
    "\n",
    "- Quality Assessment: Create a model that can predict the quality of red wine based on its chemical properties. This will enable the winery to quickly assess the quality of new wine batches as they are produced.\n",
    "- Quality Improvement: Identify which chemical properties have the most significant impact on wine quality. By understanding these key factors, the winery can focus on optimizing its winemaking process to consistently produce high-quality wines."
   ]
  },
  {
   "cell_type": "markdown",
   "metadata": {},
   "source": [
    "## Data Exploration:\n",
    "We will begin by exploring the dataset to gain insights into the chemical properties of the wines and the distribution of quality scores."
   ]
  },
  {
   "cell_type": "code",
   "execution_count": 1,
   "metadata": {},
   "outputs": [],
   "source": [
    "# Import libraries\n",
    "import pandas as pd\n",
    "import matplotlib.pyplot as plt\n",
    "import seaborn as sns\n",
    "import numpy as np"
   ]
  },
  {
   "cell_type": "code",
   "execution_count": 2,
   "metadata": {},
   "outputs": [],
   "source": [
    "# Load dataframe\n",
    "df = pd.read_csv('data/winequality-red.csv')"
   ]
  },
  {
   "cell_type": "code",
   "execution_count": 3,
   "metadata": {
    "scrolled": false
   },
   "outputs": [
    {
     "data": {
      "text/html": [
       "<div>\n",
       "<style scoped>\n",
       "    .dataframe tbody tr th:only-of-type {\n",
       "        vertical-align: middle;\n",
       "    }\n",
       "\n",
       "    .dataframe tbody tr th {\n",
       "        vertical-align: top;\n",
       "    }\n",
       "\n",
       "    .dataframe thead th {\n",
       "        text-align: right;\n",
       "    }\n",
       "</style>\n",
       "<table border=\"1\" class=\"dataframe\">\n",
       "  <thead>\n",
       "    <tr style=\"text-align: right;\">\n",
       "      <th></th>\n",
       "      <th>fixed acidity</th>\n",
       "      <th>volatile acidity</th>\n",
       "      <th>citric acid</th>\n",
       "      <th>residual sugar</th>\n",
       "      <th>chlorides</th>\n",
       "      <th>free sulfur dioxide</th>\n",
       "      <th>total sulfur dioxide</th>\n",
       "      <th>density</th>\n",
       "      <th>pH</th>\n",
       "      <th>sulphates</th>\n",
       "      <th>alcohol</th>\n",
       "      <th>quality</th>\n",
       "    </tr>\n",
       "  </thead>\n",
       "  <tbody>\n",
       "    <tr>\n",
       "      <th>0</th>\n",
       "      <td>7.4</td>\n",
       "      <td>0.70</td>\n",
       "      <td>0.00</td>\n",
       "      <td>1.9</td>\n",
       "      <td>0.076</td>\n",
       "      <td>11.0</td>\n",
       "      <td>34.0</td>\n",
       "      <td>0.9978</td>\n",
       "      <td>3.51</td>\n",
       "      <td>0.56</td>\n",
       "      <td>9.4</td>\n",
       "      <td>5</td>\n",
       "    </tr>\n",
       "    <tr>\n",
       "      <th>1</th>\n",
       "      <td>7.8</td>\n",
       "      <td>0.88</td>\n",
       "      <td>0.00</td>\n",
       "      <td>2.6</td>\n",
       "      <td>0.098</td>\n",
       "      <td>25.0</td>\n",
       "      <td>67.0</td>\n",
       "      <td>0.9968</td>\n",
       "      <td>3.20</td>\n",
       "      <td>0.68</td>\n",
       "      <td>9.8</td>\n",
       "      <td>5</td>\n",
       "    </tr>\n",
       "    <tr>\n",
       "      <th>2</th>\n",
       "      <td>7.8</td>\n",
       "      <td>0.76</td>\n",
       "      <td>0.04</td>\n",
       "      <td>2.3</td>\n",
       "      <td>0.092</td>\n",
       "      <td>15.0</td>\n",
       "      <td>54.0</td>\n",
       "      <td>0.9970</td>\n",
       "      <td>3.26</td>\n",
       "      <td>0.65</td>\n",
       "      <td>9.8</td>\n",
       "      <td>5</td>\n",
       "    </tr>\n",
       "    <tr>\n",
       "      <th>3</th>\n",
       "      <td>11.2</td>\n",
       "      <td>0.28</td>\n",
       "      <td>0.56</td>\n",
       "      <td>1.9</td>\n",
       "      <td>0.075</td>\n",
       "      <td>17.0</td>\n",
       "      <td>60.0</td>\n",
       "      <td>0.9980</td>\n",
       "      <td>3.16</td>\n",
       "      <td>0.58</td>\n",
       "      <td>9.8</td>\n",
       "      <td>6</td>\n",
       "    </tr>\n",
       "    <tr>\n",
       "      <th>4</th>\n",
       "      <td>7.4</td>\n",
       "      <td>0.70</td>\n",
       "      <td>0.00</td>\n",
       "      <td>1.9</td>\n",
       "      <td>0.076</td>\n",
       "      <td>11.0</td>\n",
       "      <td>34.0</td>\n",
       "      <td>0.9978</td>\n",
       "      <td>3.51</td>\n",
       "      <td>0.56</td>\n",
       "      <td>9.4</td>\n",
       "      <td>5</td>\n",
       "    </tr>\n",
       "  </tbody>\n",
       "</table>\n",
       "</div>"
      ],
      "text/plain": [
       "   fixed acidity  volatile acidity  citric acid  residual sugar  chlorides  \\\n",
       "0            7.4              0.70         0.00             1.9      0.076   \n",
       "1            7.8              0.88         0.00             2.6      0.098   \n",
       "2            7.8              0.76         0.04             2.3      0.092   \n",
       "3           11.2              0.28         0.56             1.9      0.075   \n",
       "4            7.4              0.70         0.00             1.9      0.076   \n",
       "\n",
       "   free sulfur dioxide  total sulfur dioxide  density    pH  sulphates  \\\n",
       "0                 11.0                  34.0   0.9978  3.51       0.56   \n",
       "1                 25.0                  67.0   0.9968  3.20       0.68   \n",
       "2                 15.0                  54.0   0.9970  3.26       0.65   \n",
       "3                 17.0                  60.0   0.9980  3.16       0.58   \n",
       "4                 11.0                  34.0   0.9978  3.51       0.56   \n",
       "\n",
       "   alcohol  quality  \n",
       "0      9.4        5  \n",
       "1      9.8        5  \n",
       "2      9.8        5  \n",
       "3      9.8        6  \n",
       "4      9.4        5  "
      ]
     },
     "execution_count": 3,
     "metadata": {},
     "output_type": "execute_result"
    }
   ],
   "source": [
    "# Exploring first few rows\n",
    "df.head()"
   ]
  },
  {
   "cell_type": "code",
   "execution_count": 4,
   "metadata": {
    "scrolled": true
   },
   "outputs": [
    {
     "name": "stdout",
     "output_type": "stream",
     "text": [
      "<class 'pandas.core.frame.DataFrame'>\n",
      "RangeIndex: 1599 entries, 0 to 1598\n",
      "Data columns (total 12 columns):\n",
      " #   Column                Non-Null Count  Dtype  \n",
      "---  ------                --------------  -----  \n",
      " 0   fixed acidity         1599 non-null   float64\n",
      " 1   volatile acidity      1599 non-null   float64\n",
      " 2   citric acid           1599 non-null   float64\n",
      " 3   residual sugar        1599 non-null   float64\n",
      " 4   chlorides             1599 non-null   float64\n",
      " 5   free sulfur dioxide   1599 non-null   float64\n",
      " 6   total sulfur dioxide  1599 non-null   float64\n",
      " 7   density               1599 non-null   float64\n",
      " 8   pH                    1599 non-null   float64\n",
      " 9   sulphates             1599 non-null   float64\n",
      " 10  alcohol               1599 non-null   float64\n",
      " 11  quality               1599 non-null   int64  \n",
      "dtypes: float64(11), int64(1)\n",
      "memory usage: 150.0 KB\n"
     ]
    }
   ],
   "source": [
    "# Check data types and shape of dataframe\n",
    "df.info()"
   ]
  },
  {
   "cell_type": "markdown",
   "metadata": {},
   "source": [
    "- df has a total of 1599 rows\n",
    "- there are 12 columns\n",
    "- For each column, it displays the following information:\n",
    "- the number of non-null (non-missing) values in each column.\n",
    "- the data type for each columns shows to numerical"
   ]
  },
  {
   "cell_type": "code",
   "execution_count": 5,
   "metadata": {
    "scrolled": true
   },
   "outputs": [
    {
     "data": {
      "text/html": [
       "<div>\n",
       "<style scoped>\n",
       "    .dataframe tbody tr th:only-of-type {\n",
       "        vertical-align: middle;\n",
       "    }\n",
       "\n",
       "    .dataframe tbody tr th {\n",
       "        vertical-align: top;\n",
       "    }\n",
       "\n",
       "    .dataframe thead th {\n",
       "        text-align: right;\n",
       "    }\n",
       "</style>\n",
       "<table border=\"1\" class=\"dataframe\">\n",
       "  <thead>\n",
       "    <tr style=\"text-align: right;\">\n",
       "      <th></th>\n",
       "      <th>fixed acidity</th>\n",
       "      <th>volatile acidity</th>\n",
       "      <th>citric acid</th>\n",
       "      <th>residual sugar</th>\n",
       "      <th>chlorides</th>\n",
       "      <th>free sulfur dioxide</th>\n",
       "      <th>total sulfur dioxide</th>\n",
       "      <th>density</th>\n",
       "      <th>pH</th>\n",
       "      <th>sulphates</th>\n",
       "      <th>alcohol</th>\n",
       "      <th>quality</th>\n",
       "    </tr>\n",
       "  </thead>\n",
       "  <tbody>\n",
       "    <tr>\n",
       "      <th>count</th>\n",
       "      <td>1599.000000</td>\n",
       "      <td>1599.000000</td>\n",
       "      <td>1599.000000</td>\n",
       "      <td>1599.000000</td>\n",
       "      <td>1599.000000</td>\n",
       "      <td>1599.000000</td>\n",
       "      <td>1599.000000</td>\n",
       "      <td>1599.000000</td>\n",
       "      <td>1599.000000</td>\n",
       "      <td>1599.000000</td>\n",
       "      <td>1599.000000</td>\n",
       "      <td>1599.000000</td>\n",
       "    </tr>\n",
       "    <tr>\n",
       "      <th>mean</th>\n",
       "      <td>8.319637</td>\n",
       "      <td>0.527821</td>\n",
       "      <td>0.270976</td>\n",
       "      <td>2.538806</td>\n",
       "      <td>0.087467</td>\n",
       "      <td>15.874922</td>\n",
       "      <td>46.467792</td>\n",
       "      <td>0.996747</td>\n",
       "      <td>3.311113</td>\n",
       "      <td>0.658149</td>\n",
       "      <td>10.422983</td>\n",
       "      <td>5.636023</td>\n",
       "    </tr>\n",
       "    <tr>\n",
       "      <th>std</th>\n",
       "      <td>1.741096</td>\n",
       "      <td>0.179060</td>\n",
       "      <td>0.194801</td>\n",
       "      <td>1.409928</td>\n",
       "      <td>0.047065</td>\n",
       "      <td>10.460157</td>\n",
       "      <td>32.895324</td>\n",
       "      <td>0.001887</td>\n",
       "      <td>0.154386</td>\n",
       "      <td>0.169507</td>\n",
       "      <td>1.065668</td>\n",
       "      <td>0.807569</td>\n",
       "    </tr>\n",
       "    <tr>\n",
       "      <th>min</th>\n",
       "      <td>4.600000</td>\n",
       "      <td>0.120000</td>\n",
       "      <td>0.000000</td>\n",
       "      <td>0.900000</td>\n",
       "      <td>0.012000</td>\n",
       "      <td>1.000000</td>\n",
       "      <td>6.000000</td>\n",
       "      <td>0.990070</td>\n",
       "      <td>2.740000</td>\n",
       "      <td>0.330000</td>\n",
       "      <td>8.400000</td>\n",
       "      <td>3.000000</td>\n",
       "    </tr>\n",
       "    <tr>\n",
       "      <th>25%</th>\n",
       "      <td>7.100000</td>\n",
       "      <td>0.390000</td>\n",
       "      <td>0.090000</td>\n",
       "      <td>1.900000</td>\n",
       "      <td>0.070000</td>\n",
       "      <td>7.000000</td>\n",
       "      <td>22.000000</td>\n",
       "      <td>0.995600</td>\n",
       "      <td>3.210000</td>\n",
       "      <td>0.550000</td>\n",
       "      <td>9.500000</td>\n",
       "      <td>5.000000</td>\n",
       "    </tr>\n",
       "    <tr>\n",
       "      <th>50%</th>\n",
       "      <td>7.900000</td>\n",
       "      <td>0.520000</td>\n",
       "      <td>0.260000</td>\n",
       "      <td>2.200000</td>\n",
       "      <td>0.079000</td>\n",
       "      <td>14.000000</td>\n",
       "      <td>38.000000</td>\n",
       "      <td>0.996750</td>\n",
       "      <td>3.310000</td>\n",
       "      <td>0.620000</td>\n",
       "      <td>10.200000</td>\n",
       "      <td>6.000000</td>\n",
       "    </tr>\n",
       "    <tr>\n",
       "      <th>75%</th>\n",
       "      <td>9.200000</td>\n",
       "      <td>0.640000</td>\n",
       "      <td>0.420000</td>\n",
       "      <td>2.600000</td>\n",
       "      <td>0.090000</td>\n",
       "      <td>21.000000</td>\n",
       "      <td>62.000000</td>\n",
       "      <td>0.997835</td>\n",
       "      <td>3.400000</td>\n",
       "      <td>0.730000</td>\n",
       "      <td>11.100000</td>\n",
       "      <td>6.000000</td>\n",
       "    </tr>\n",
       "    <tr>\n",
       "      <th>max</th>\n",
       "      <td>15.900000</td>\n",
       "      <td>1.580000</td>\n",
       "      <td>1.000000</td>\n",
       "      <td>15.500000</td>\n",
       "      <td>0.611000</td>\n",
       "      <td>72.000000</td>\n",
       "      <td>289.000000</td>\n",
       "      <td>1.003690</td>\n",
       "      <td>4.010000</td>\n",
       "      <td>2.000000</td>\n",
       "      <td>14.900000</td>\n",
       "      <td>8.000000</td>\n",
       "    </tr>\n",
       "  </tbody>\n",
       "</table>\n",
       "</div>"
      ],
      "text/plain": [
       "       fixed acidity  volatile acidity  citric acid  residual sugar  \\\n",
       "count    1599.000000       1599.000000  1599.000000     1599.000000   \n",
       "mean        8.319637          0.527821     0.270976        2.538806   \n",
       "std         1.741096          0.179060     0.194801        1.409928   \n",
       "min         4.600000          0.120000     0.000000        0.900000   \n",
       "25%         7.100000          0.390000     0.090000        1.900000   \n",
       "50%         7.900000          0.520000     0.260000        2.200000   \n",
       "75%         9.200000          0.640000     0.420000        2.600000   \n",
       "max        15.900000          1.580000     1.000000       15.500000   \n",
       "\n",
       "         chlorides  free sulfur dioxide  total sulfur dioxide      density  \\\n",
       "count  1599.000000          1599.000000           1599.000000  1599.000000   \n",
       "mean      0.087467            15.874922             46.467792     0.996747   \n",
       "std       0.047065            10.460157             32.895324     0.001887   \n",
       "min       0.012000             1.000000              6.000000     0.990070   \n",
       "25%       0.070000             7.000000             22.000000     0.995600   \n",
       "50%       0.079000            14.000000             38.000000     0.996750   \n",
       "75%       0.090000            21.000000             62.000000     0.997835   \n",
       "max       0.611000            72.000000            289.000000     1.003690   \n",
       "\n",
       "                pH    sulphates      alcohol      quality  \n",
       "count  1599.000000  1599.000000  1599.000000  1599.000000  \n",
       "mean      3.311113     0.658149    10.422983     5.636023  \n",
       "std       0.154386     0.169507     1.065668     0.807569  \n",
       "min       2.740000     0.330000     8.400000     3.000000  \n",
       "25%       3.210000     0.550000     9.500000     5.000000  \n",
       "50%       3.310000     0.620000    10.200000     6.000000  \n",
       "75%       3.400000     0.730000    11.100000     6.000000  \n",
       "max       4.010000     2.000000    14.900000     8.000000  "
      ]
     },
     "execution_count": 5,
     "metadata": {},
     "output_type": "execute_result"
    }
   ],
   "source": [
    "# Calculate summary statistics for columns\n",
    "df.describe()"
   ]
  },
  {
   "cell_type": "markdown",
   "metadata": {},
   "source": [
    "- **count:** Indicates the number of data points in the dataset, which is 1599.\n",
    "\n",
    "- **mean:** Represents the average value for each feature. For example, the mean for \"fixed acidity\" is approximately 8.32.\n",
    "\n",
    "- **std:** Stands for the standard deviation, which measures the dispersion or spread of the data. A higher standard deviation indicates greater variability in the data.\n",
    "\n",
    "- **min:** Reflects the minimum value observed in each feature. For instance, the minimum value for \"residual sugar\" is 0.9.\n",
    "\n",
    "- **25% (Q1), 50% (Q2 or median), 75% (Q3):** These percentiles divide the data into four equal parts. Q1 (25th percentile) marks the value below which 25% of the data falls. Q2 (50th percentile) is the median, representing the middle value. Q3 (75th percentile) denotes the value below which 75% of the data falls.\n",
    "\n",
    "- **max:** Denotes the maximum value observed in each feature. For example, the maximum value for \"alcohol\" is 14.9."
   ]
  },
  {
   "cell_type": "code",
   "execution_count": 6,
   "metadata": {
    "scrolled": true
   },
   "outputs": [
    {
     "data": {
      "text/plain": [
       "fixed acidity           0\n",
       "volatile acidity        0\n",
       "citric acid             0\n",
       "residual sugar          0\n",
       "chlorides               0\n",
       "free sulfur dioxide     0\n",
       "total sulfur dioxide    0\n",
       "density                 0\n",
       "pH                      0\n",
       "sulphates               0\n",
       "alcohol                 0\n",
       "quality                 0\n",
       "dtype: int64"
      ]
     },
     "execution_count": 6,
     "metadata": {},
     "output_type": "execute_result"
    }
   ],
   "source": [
    "# Checking for any null values\n",
    "df.isnull().sum()"
   ]
  },
  {
   "cell_type": "markdown",
   "metadata": {},
   "source": [
    "No null values in the dataframe."
   ]
  },
  {
   "cell_type": "code",
   "execution_count": 7,
   "metadata": {},
   "outputs": [
    {
     "data": {
      "text/plain": [
       "fixed acidity            96\n",
       "volatile acidity        143\n",
       "citric acid              80\n",
       "residual sugar           91\n",
       "chlorides               153\n",
       "free sulfur dioxide      60\n",
       "total sulfur dioxide    144\n",
       "density                 436\n",
       "pH                       89\n",
       "sulphates                96\n",
       "alcohol                  65\n",
       "quality                   6\n",
       "dtype: int64"
      ]
     },
     "execution_count": 7,
     "metadata": {},
     "output_type": "execute_result"
    }
   ],
   "source": [
    "df.nunique()"
   ]
  },
  {
   "cell_type": "code",
   "execution_count": 8,
   "metadata": {},
   "outputs": [
    {
     "data": {
      "image/png": "[encoded data removed]",
      "text/plain": [
       "<Figure size 864x576 with 11 Axes>"
      ]
     },
     "metadata": {
      "needs_background": "light"
     },
     "output_type": "display_data"
    },
    {
     "data": {
      "image/png": "[encoded data removed]",
      "text/plain": [
       "<Figure size 432x288 with 1 Axes>"
      ]
     },
     "metadata": {
      "needs_background": "light"
     },
     "output_type": "display_data"
    }
   ],
   "source": [
    "# Create histograms for properties of wine\n",
    "plt.figure(figsize=(12, 8))\n",
    "for i, column in enumerate(df.columns[:-1]):  # Exclude the 'quality' column\n",
    "    plt.subplot(3, 4, i + 1)\n",
    "    sns.histplot(df[column], kde=True, bins=30)\n",
    "    plt.title(column)\n",
    "plt.tight_layout()\n",
    "plt.show()\n",
    "\n",
    "# Create a histogram for wine quality\n",
    "plt.figure(figsize=(6, 4))\n",
    "sns.histplot(df['quality'], bins=6, kde=True)\n",
    "plt.title('Wine Quality')\n",
    "plt.show()\n"
   ]
  },
  {
   "cell_type": "markdown",
   "metadata": {},
   "source": [
    "Insights based on histograms we can see most of the features a normally destributed and agian quality of wine seems to surround 5 and 6.\n",
    "\n",
    "1. **Fixed Acidity:** The distribution of fixed acidity appears to be somewhat right-skewed, with a peak around 7-8. There are relatively fewer observations with very high or very low fixed acidity values.\n",
    "\n",
    "2. **Volatile Acidity:** The volatile acidity distribution is approximately normally distributed with a peak around 0.5. There are some outliers on the lower and higher ends of the scale.\n",
    "\n",
    "3. **Citric Acid:** The distribution of citric acid is right-skewed, with a peak around 0.0. Most observations have low citric acid content, but there is a smaller group with higher values.\n",
    "\n",
    "4. **Residual Sugar:** Residual sugar is right-skewed, with a peak around 1-2. Most wines have low residual sugar content, but there are some outliers with higher levels.\n",
    "\n",
    "5. **Chlorides:** Chlorides are right-skewed, with a peak around 0.07. Similar to residual sugar, most wines have low chloride content, but some wines have higher values.\n",
    "\n",
    "6. **Free Sulfur Dioxide:** The distribution of free sulfur dioxide is right-skewed, with a peak around 10-20. There is a relatively small number of observations with very high levels.\n",
    "\n",
    "7. **Total Sulfur Dioxide:** Total sulfur dioxide is also right-skewed, with a peak around 50-100. There are some wines with extremely high total sulfur dioxide levels.\n",
    "\n",
    "8. **Density:** The density distribution is approximately normally distributed with a peak around 0.996. There are no significant outliers in this distribution.\n",
    "\n",
    "9. **pH:** The pH distribution is approximately normally distributed with a peak around 3.3. The values are relatively evenly spread across the range.\n",
    "\n",
    "10. **Sulphates:** The distribution of sulphates is right-skewed, with a peak around 0.5-0.7. Most wines have moderate sulphate levels, but there are some wines with very high levels.\n",
    "\n",
    "11. **Alcohol:** Alcohol content is approximately normally distributed with a peak around 9.4. There are no significant outliers in this distribution.\n",
    "\n",
    "12. **Wine Quality:** The wine quality distribution shows that most wines in the dataset have a quality rating of 5 or 6, with fewer wines rated higher or lower. The distribution is somewhat right-skewed. **We were given wine quality over 7 is considered good \"quality\".**"
   ]
  },
  {
   "cell_type": "code",
   "execution_count": 9,
   "metadata": {},
   "outputs": [
    {
     "data": {
      "image/png": "[encoded data removed]",
      "text/plain": [
       "<Figure size 864x576 with 12 Axes>"
      ]
     },
     "metadata": {
      "needs_background": "light"
     },
     "output_type": "display_data"
    }
   ],
   "source": [
    "# Creating box plot to determine any potential outliers\n",
    "plt.figure(figsize=(12, 8))\n",
    "for i, column in enumerate(df.columns):\n",
    "    plt.subplot(3, 4, i + 1)  \n",
    "    plt.boxplot(df[column], vert=False) \n",
    "    plt.title(column) \n",
    "    \n",
    "plt.tight_layout()  \n",
    "plt.show()"
   ]
  },
  {
   "cell_type": "markdown",
   "metadata": {},
   "source": [
    "It appears that several columns have outliers, 'fixed acidity,' 'volatile acidity', 'residual sugar', 'chlorides', 'free sulfur dioxide', 'total sulfur dioxide', 'density', 'pH', and 'sulphates'."
   ]
  },
  {
   "cell_type": "code",
   "execution_count": 11,
   "metadata": {},
   "outputs": [
    {
     "data": {
      "image/png": "[encoded data removed]",
      "text/plain": [
       "<Figure size 360x216 with 1 Axes>"
      ]
     },
     "metadata": {
      "needs_background": "light"
     },
     "output_type": "display_data"
    }
   ],
   "source": [
    "# Plot quality value count\n",
    "plt.figure(figsize=(5,3))\n",
    "df['quality'].value_counts().plot(kind='bar')\n",
    "plt.xticks(rotation=0);"
   ]
  },
  {
   "cell_type": "markdown",
   "metadata": {},
   "source": [
    "When checking for quality count we can see the wine quality of 5 and 6 are really common out of all.\n",
    "\n",
    "Lets take a look what features are highly correlated to \"quality\".\n",
    "- Before moving foward to correlations it would be a good time to add a 'good_quality' column to our data."
   ]
  },
  {
   "cell_type": "markdown",
   "metadata": {},
   "source": [
    "# Data Preprocessing:\n",
    "   - Determining good and bad quality wine.\n",
    "   - Address outliers using z-score method.\n",
    "   - Ensure that the data is in a suitable format for modeling."
   ]
  },
  {
   "cell_type": "markdown",
   "metadata": {},
   "source": [
    "#### Creating a new column \"good_quality\"\n",
    "This will help identify good quality wine in order to make better-informed decisions in our models later on."
   ]
  },
  {
   "cell_type": "code",
   "execution_count": 12,
   "metadata": {
    "scrolled": true
   },
   "outputs": [
    {
     "data": {
      "text/html": [
       "<div>\n",
       "<style scoped>\n",
       "    .dataframe tbody tr th:only-of-type {\n",
       "        vertical-align: middle;\n",
       "    }\n",
       "\n",
       "    .dataframe tbody tr th {\n",
       "        vertical-align: top;\n",
       "    }\n",
       "\n",
       "    .dataframe thead th {\n",
       "        text-align: right;\n",
       "    }\n",
       "</style>\n",
       "<table border=\"1\" class=\"dataframe\">\n",
       "  <thead>\n",
       "    <tr style=\"text-align: right;\">\n",
       "      <th></th>\n",
       "      <th>fixed acidity</th>\n",
       "      <th>volatile acidity</th>\n",
       "      <th>citric acid</th>\n",
       "      <th>residual sugar</th>\n",
       "      <th>chlorides</th>\n",
       "      <th>free sulfur dioxide</th>\n",
       "      <th>total sulfur dioxide</th>\n",
       "      <th>density</th>\n",
       "      <th>pH</th>\n",
       "      <th>sulphates</th>\n",
       "      <th>alcohol</th>\n",
       "      <th>good_quality</th>\n",
       "    </tr>\n",
       "  </thead>\n",
       "  <tbody>\n",
       "    <tr>\n",
       "      <th>0</th>\n",
       "      <td>7.4</td>\n",
       "      <td>0.70</td>\n",
       "      <td>0.00</td>\n",
       "      <td>1.9</td>\n",
       "      <td>0.076</td>\n",
       "      <td>11.0</td>\n",
       "      <td>34.0</td>\n",
       "      <td>0.9978</td>\n",
       "      <td>3.51</td>\n",
       "      <td>0.56</td>\n",
       "      <td>9.4</td>\n",
       "      <td>0</td>\n",
       "    </tr>\n",
       "    <tr>\n",
       "      <th>1</th>\n",
       "      <td>7.8</td>\n",
       "      <td>0.88</td>\n",
       "      <td>0.00</td>\n",
       "      <td>2.6</td>\n",
       "      <td>0.098</td>\n",
       "      <td>25.0</td>\n",
       "      <td>67.0</td>\n",
       "      <td>0.9968</td>\n",
       "      <td>3.20</td>\n",
       "      <td>0.68</td>\n",
       "      <td>9.8</td>\n",
       "      <td>0</td>\n",
       "    </tr>\n",
       "    <tr>\n",
       "      <th>2</th>\n",
       "      <td>7.8</td>\n",
       "      <td>0.76</td>\n",
       "      <td>0.04</td>\n",
       "      <td>2.3</td>\n",
       "      <td>0.092</td>\n",
       "      <td>15.0</td>\n",
       "      <td>54.0</td>\n",
       "      <td>0.9970</td>\n",
       "      <td>3.26</td>\n",
       "      <td>0.65</td>\n",
       "      <td>9.8</td>\n",
       "      <td>0</td>\n",
       "    </tr>\n",
       "    <tr>\n",
       "      <th>3</th>\n",
       "      <td>11.2</td>\n",
       "      <td>0.28</td>\n",
       "      <td>0.56</td>\n",
       "      <td>1.9</td>\n",
       "      <td>0.075</td>\n",
       "      <td>17.0</td>\n",
       "      <td>60.0</td>\n",
       "      <td>0.9980</td>\n",
       "      <td>3.16</td>\n",
       "      <td>0.58</td>\n",
       "      <td>9.8</td>\n",
       "      <td>0</td>\n",
       "    </tr>\n",
       "    <tr>\n",
       "      <th>4</th>\n",
       "      <td>7.4</td>\n",
       "      <td>0.70</td>\n",
       "      <td>0.00</td>\n",
       "      <td>1.9</td>\n",
       "      <td>0.076</td>\n",
       "      <td>11.0</td>\n",
       "      <td>34.0</td>\n",
       "      <td>0.9978</td>\n",
       "      <td>3.51</td>\n",
       "      <td>0.56</td>\n",
       "      <td>9.4</td>\n",
       "      <td>0</td>\n",
       "    </tr>\n",
       "  </tbody>\n",
       "</table>\n",
       "</div>"
      ],
      "text/plain": [
       "   fixed acidity  volatile acidity  citric acid  residual sugar  chlorides  \\\n",
       "0            7.4              0.70         0.00             1.9      0.076   \n",
       "1            7.8              0.88         0.00             2.6      0.098   \n",
       "2            7.8              0.76         0.04             2.3      0.092   \n",
       "3           11.2              0.28         0.56             1.9      0.075   \n",
       "4            7.4              0.70         0.00             1.9      0.076   \n",
       "\n",
       "   free sulfur dioxide  total sulfur dioxide  density    pH  sulphates  \\\n",
       "0                 11.0                  34.0   0.9978  3.51       0.56   \n",
       "1                 25.0                  67.0   0.9968  3.20       0.68   \n",
       "2                 15.0                  54.0   0.9970  3.26       0.65   \n",
       "3                 17.0                  60.0   0.9980  3.16       0.58   \n",
       "4                 11.0                  34.0   0.9978  3.51       0.56   \n",
       "\n",
       "   alcohol  good_quality  \n",
       "0      9.4             0  \n",
       "1      9.8             0  \n",
       "2      9.8             0  \n",
       "3      9.8             0  \n",
       "4      9.4             0  "
      ]
     },
     "execution_count": 12,
     "metadata": {},
     "output_type": "execute_result"
    }
   ],
   "source": [
    "# Creating a classified wine quality column\n",
    "df['good_quality'] = [1 if x >= 7 else 0 for x in df['quality']]\n",
    "\n",
    "# dropping quality columns\n",
    "df = df.drop('quality', axis=1)\n",
    "\n",
    "df.head()"
   ]
  },
  {
   "cell_type": "markdown",
   "metadata": {},
   "source": [
    "Now we can look at the features correlation values with `'good_quality'`"
   ]
  },
  {
   "cell_type": "code",
   "execution_count": 13,
   "metadata": {
    "scrolled": false
   },
   "outputs": [
    {
     "name": "stdout",
     "output_type": "stream",
     "text": [
      "fixed acidity           0.120061\n",
      "volatile acidity       -0.270712\n",
      "citric acid             0.214716\n",
      "residual sugar          0.047779\n",
      "chlorides              -0.097308\n",
      "free sulfur dioxide    -0.071747\n",
      "total sulfur dioxide   -0.139517\n",
      "density                -0.150460\n",
      "pH                     -0.057283\n",
      "sulphates               0.199485\n",
      "alcohol                 0.407315\n",
      "good_quality            1.000000\n",
      "Name: good_quality, dtype: float64\n"
     ]
    }
   ],
   "source": [
    "# Calculate the correlation between 'good_quality' and all other columns\n",
    "correlation = df.corr()['good_quality']\n",
    "print(correlation)"
   ]
  },
  {
   "cell_type": "markdown",
   "metadata": {},
   "source": [
    "We can quickly notice alcohol has the `highest` correlation with wine quality.\n",
    "\n",
    "- **alcohol (0.407315)**: There is a positive correlation between the alcohol content in the wine and it being of good quality. This suggests that wines with higher alcohol content are more likely to be of good quality.\n",
    "\n",
    "- **volatile acidity (-0.270712)**: There is a negative correlation between volatile acidity and good quality. In other words, wines with lower volatile acidity are more likely to be of good quality.\n",
    "\n",
    "- **citric acid (0.214716)**: Wines with a higher citric acid content are more likely to be of good quality. This is a positive correlation.\n",
    "\n",
    "- **sulphates (0.199485)**: Wines with higher levels of sulphates tend to be of better quality. This is also a positive correlation.\n",
    "\n",
    "- **density (-0.150460)**: There is a negative correlation between density and good quality. Wines with lower density are more likely to be of good quality.\n",
    "\n",
    "- **total sulfur dioxide (-0.139517)**: There is a negative correlation, indicating that wines with lower total sulfur dioxide are more likely to be of good quality.\n",
    "\n",
    "- **fixed acidity (0.120061)**: Wines with higher fixed acidity are slightly more likely to be of good quality. This is a positive correlation, but it's weaker than some of the others.\n",
    "\n",
    "- **chlorides (-0.097308)**: There is a negative correlation between chlorides and good quality. Wines with lower chloride levels are more likely to be of good quality.\n",
    "\n",
    "- **free sulfur dioxide (-0.071747)**: There is a negative correlation, indicating that wines with lower levels of free sulfur dioxide are more likely to be of good quality.\n",
    "\n",
    "- **pH (-0.057283)**: There is a negative correlation between pH and good quality. Wines with lower pH values are more likely to be of good quality.\n",
    "\n",
    "- **residual sugar (0.047779)**: Wines with slightly higher residual sugar content are more likely to be of good quality, but this correlation is relatively weak."
   ]
  },
  {
   "cell_type": "code",
   "execution_count": 16,
   "metadata": {},
   "outputs": [
    {
     "name": "stdout",
     "output_type": "stream",
     "text": [
      "0    1382\n",
      "1     217\n",
      "Name: good_quality, dtype: int64\n"
     ]
    }
   ],
   "source": [
    "# Print good_quality counts\n",
    "print(df['good_quality'].value_counts())"
   ]
  },
  {
   "cell_type": "markdown",
   "metadata": {},
   "source": [
    "There are **217** instances with a 'good_quality' label of 1, indicating that the dataset contains a smaller number of 'good quality' samples compared to 'not good quality' samples."
   ]
  },
  {
   "cell_type": "markdown",
   "metadata": {},
   "source": [
    "Next, we will fix our outliers by using z-score method.\n",
    "\n",
    "**Benefits of Z-Score Threshold of 3**:\n",
    "\n",
    "   - **Balancing Act**: A Z-score threshold of 3 is a balance between removing extreme outliers that can severely affect model performance and retaining a sufficient amount of data for meaningful analysis. \n",
    "\n",
    "   - **Tuning Possibility**: The choice of a Z-score threshold can be adjusted depending on the specific context of your analysis.\n",
    "\n",
    "   - **Statistical Justification**: Using Z-scores for outlier removal has a statistical foundation, as it relates each data point's deviation from the mean to the standard deviation. Therefore, it provides a principled approach for identifying and dealing with outliers.\n"
   ]
  },
  {
   "cell_type": "code",
   "execution_count": 17,
   "metadata": {},
   "outputs": [],
   "source": [
    "# Creating a copy of df\n",
    "df_copy = df.copy()"
   ]
  },
  {
   "cell_type": "code",
   "execution_count": 18,
   "metadata": {},
   "outputs": [],
   "source": [
    "# Detect and remove outliers using Z-score\n",
    "from scipy import stats\n",
    "z_scores = np.abs(stats.zscore(df_copy))\n",
    "threshold = 3\n",
    "wine_df = df_copy[(z_scores < threshold).all(axis=1)]"
   ]
  },
  {
   "cell_type": "markdown",
   "metadata": {},
   "source": [
    "We will create a box plot compaing `df` with `wine_df` (no outliers datafrme)"
   ]
  },
  {
   "cell_type": "code",
   "execution_count": 19,
   "metadata": {},
   "outputs": [
    {
     "data": {
      "image/png": "[encoded data removed]",
      "text/plain": [
       "<Figure size 864x576 with 12 Axes>"
      ]
     },
     "metadata": {
      "needs_background": "light"
     },
     "output_type": "display_data"
    },
    {
     "data": {
      "image/png": "[encoded data removed]",
      "text/plain": [
       "<Figure size 864x576 with 12 Axes>"
      ]
     },
     "metadata": {
      "needs_background": "light"
     },
     "output_type": "display_data"
    }
   ],
   "source": [
    "# Create box plots for the original DataFrame (df)\n",
    "plt.figure(figsize=(12, 8))\n",
    "plt.suptitle('Box Plots for Original Data (df)', fontsize=16)\n",
    "for i, column in enumerate(df.columns):\n",
    "    plt.subplot(3, 4, i + 1)  # Create subplots for each column\n",
    "    plt.boxplot(df[column], vert=False)  # Create a box plot\n",
    "    plt.title(column)  # Set the title as the column name\n",
    "\n",
    "plt.tight_layout()  # Adjust subplot layout for readability\n",
    "\n",
    "# Create box plots for the DataFrame with outliers removed (df_no_outliers)\n",
    "plt.figure(figsize=(12, 8))\n",
    "plt.suptitle('Box Plots for Data with Outliers Removed (wine_df', fontsize=16)\n",
    "for i, column in enumerate(wine_df.columns):\n",
    "    plt.subplot(3, 4, i + 1)  # Create subplots for each column\n",
    "    plt.boxplot(wine_df[column], vert=False)  # Create a box plot\n",
    "    plt.title(column)  # Set the title as the column name\n",
    "\n",
    "plt.tight_layout()  # Adjust subplot layout for readability\n",
    "\n",
    "plt.show()"
   ]
  },
  {
   "cell_type": "markdown",
   "metadata": {},
   "source": [
    "After removing the outliers in the data, the box plots for **most features have a reduced range** and tighter IQR (interquartile range). This suggests that the extreme values have been successfully taken care of, resulting in a more compact and less skewed distribution for many features. The distribution of `'free sulfur dioxide', 'total sulfur dioxide',  'residual sugar', and 'chlorides'` appear to be less skewed and more centered around the median. We can now move foward to model training and selection."
   ]
  },
  {
   "cell_type": "markdown",
   "metadata": {},
   "source": [
    "## Model Training and Selection\n",
    "We will build a **baseline model** and make a model selection by comparing various classification models, like `Logistic Regression, Support Vector Classifier, K-Nearest Neighbors, and the Random Forest Classifier`. At the end Random Forest Classifier was selected as the best model due to its performance.\n",
    "\n",
    "But why these models?:\n",
    "\n",
    "**Logistic Regression:** is a simple and interpretable model that is often used as a baseline model for classification tasks.\n",
    "- It's particularly useful when the relationship between features and the target variable is approximately linear.\n",
    "\n",
    "**Support Vector Classifier (SVC):** SVC is a powerful model for both linear and non-linear classification.\n",
    "\n",
    "- It's effective at finding complex decision boundaries in the data.\n",
    "Especially useful when there is a clear margin of separation between classes.\n",
    "\n",
    "**K-Nearest Neighbors (KNN):** is a non-parametric algorithm that classifies data points based on their similarity to neighboring data points.\n",
    "- It can be a good choice when there's no strong assumption about the data distribution, and it's especially useful for small to medium-sized datasets.\n",
    "\n",
    "**Random Forest Classifier:** is an ensemble learning method that combines multiple decision trees to make predictions.\n",
    "- It is known for its robustness, resistance to overfitting, and the ability to handle both categorical and numerical features effectively."
   ]
  },
  {
   "cell_type": "markdown",
   "metadata": {},
   "source": [
    "We will start with creating a baseline model.\n",
    "\n",
    "### Baseline Model:\n",
    "`Logistic Regression` will serve as a baseline model, and we can later compare more complex models to it to see if they offer improved predictive performance."
   ]
  },
  {
   "cell_type": "code",
   "execution_count": 20,
   "metadata": {},
   "outputs": [],
   "source": [
    "from sklearn.linear_model import LogisticRegression\n",
    "from sklearn.svm import SVC\n",
    "from sklearn.neighbors import KNeighborsClassifier\n",
    "from sklearn.ensemble import RandomForestClassifier\n",
    "from sklearn.preprocessing import StandardScaler\n",
    "from sklearn.feature_selection import SelectKBest, f_classif\n",
    "from sklearn.model_selection import train_test_split\n",
    "from sklearn.metrics import accuracy_score, precision_score, recall_score, f1_score, confusion_matrix\n",
    "from sklearn.pipeline import Pipeline"
   ]
  },
  {
   "cell_type": "code",
   "execution_count": 21,
   "metadata": {},
   "outputs": [],
   "source": [
    "# Creating varibles\n",
    "X = wine_df.drop('good_quality', axis=1) \n",
    "y = wine_df['good_quality']"
   ]
  },
  {
   "cell_type": "code",
   "execution_count": 22,
   "metadata": {},
   "outputs": [],
   "source": [
    "# Split the data \n",
    "X_train, X_test, y_train, y_test = train_test_split(X, y, test_size=0.3, random_state=42)"
   ]
  },
  {
   "cell_type": "code",
   "execution_count": 23,
   "metadata": {},
   "outputs": [
    {
     "name": "stdout",
     "output_type": "stream",
     "text": [
      "Model: Logistic Regression\n",
      "Accuracy: 0.8789954337899544\n",
      "Precision: 0.68\n",
      "Recall: 0.27419354838709675\n",
      "F1 Score: 0.39080459770114945\n",
      "Confusion Matrix:\n",
      "[[368   8]\n",
      " [ 45  17]]\n"
     ]
    }
   ],
   "source": [
    "# Create a baseline Logistic Regression model\n",
    "baseline_model = LogisticRegression(random_state = 42, max_iter=1000)\n",
    "\n",
    "# Fit baseline model\n",
    "baseline_model.fit(X_train, y_train)\n",
    "\n",
    "# Make predictions\n",
    "y_pred = baseline_model.predict(X_test)\n",
    "\n",
    "# Evaluate the model's performance\n",
    "accuracy = accuracy_score(y_test, y_pred)\n",
    "precision = precision_score(y_test, y_pred)\n",
    "recall = recall_score(y_test, y_pred)\n",
    "f1 = f1_score(y_test, y_pred)\n",
    "confusion = confusion_matrix(y_test, y_pred)\n",
    "\n",
    "# Print the results\n",
    "print(\"Model: Logistic Regression\")\n",
    "print(\"Accuracy:\", accuracy)\n",
    "print(\"Precision:\", precision)\n",
    "print(\"Recall:\", recall)\n",
    "print(\"F1 Score:\", f1)\n",
    "print(\"Confusion Matrix:\")\n",
    "print(confusion)"
   ]
  },
  {
   "cell_type": "markdown",
   "metadata": {},
   "source": [
    "- **Accuracy**: The model has an accuracy of approximately 0.879, which means it correctly classifies around `87.9%` of the instances in the test data.\n",
    "\n",
    "- **Precision**: The precision is 0.68, which indicates that when the model predicts a positive class (1) -- `good wine quality`, it is correct 68% of the time. In other words, there are some false positives in the predictions.\n",
    "\n",
    "- **Recall**: The recall is 0.274, which means that the model identifies `27.4%` of the actual positive instances. This suggests that the model misses a significant portion of positive cases, resulting in a relatively low recall.\n",
    "\n",
    "- **F1 Score**: The F1 score is `0.391`, which is the harmonic mean of precision and recall. It provides a balance between precision and recall. In this case, it indicates that the model's overall performance is moderate.\n",
    "\n",
    "- **Confusion Matrix**: The confusion matrix reveals that the model correctly predicts 368 instances of the negative class (0) and 17 instances of the positive class (1). However, it also incorrectly predicts 8 instances as positive when they are negative (false positives) and misses 45 positive instances (false negatives).\n",
    "\n",
    "Baseline Logistic Regression model shows moderate accuracy but has room for improvement, especially in terms of recall. It tends to have **more** false positives and misses a substantial number of actual positive cases. Further model refinement and feature engineering may be necessary to enhance its performance."
   ]
  },
  {
   "cell_type": "markdown",
   "metadata": {},
   "source": [
    "### Model Selection:"
   ]
  },
  {
   "cell_type": "code",
   "execution_count": 28,
   "metadata": {
    "scrolled": true
   },
   "outputs": [
    {
     "name": "stdout",
     "output_type": "stream",
     "text": [
      "Model: Support Vector Classifier\n",
      "Accuracy: 0.8836\n",
      "Precision: 0.8739\n",
      "Recall: 0.8836\n",
      "F1 Score: 0.8558\n",
      "Confusion Matrix:\n",
      "[[372   4]\n",
      " [ 47  15]]\n",
      "\n",
      "\n",
      "Model: K-Nearest Neighbors\n",
      "Accuracy: 0.8767\n",
      "Precision: 0.8595\n",
      "Recall: 0.8767\n",
      "F1 Score: 0.8624\n",
      "Confusion Matrix:\n",
      "[[362  14]\n",
      " [ 40  22]]\n",
      "\n",
      "\n",
      "Model: Random Forest Classifier\n",
      "Accuracy: 0.8995\n",
      "Precision: 0.8908\n",
      "Recall: 0.8995\n",
      "F1 Score: 0.8854\n",
      "Confusion Matrix:\n",
      "[[369   7]\n",
      " [ 37  25]]\n",
      "\n",
      "\n"
     ]
    }
   ],
   "source": [
    "# Creating a dictionary of classification models\n",
    "classification_models = {\n",
    "    'Support Vector Classifier': SVC(),\n",
    "    'K-Nearest Neighbors': KNeighborsClassifier(n_neighbors=5),\n",
    "    'Random Forest Classifier': RandomForestClassifier()\n",
    "}\n",
    "\n",
    "# Creating a pipeline with data preprocessing, feature selection, and model training\n",
    "pipeline = Pipeline([\n",
    "    ('scaler', StandardScaler()),       # Data Scaling\n",
    "    ('feature_selector', SelectKBest(score_func=f_classif, k=5)),  # Feature Selection\n",
    "    ('classifier', None)         # Model Training (to be updated in the loop)\n",
    "])\n",
    "\n",
    "# Loop through classification models\n",
    "for model_name, model in classification_models.items():\n",
    "    pipeline.set_params(classifier=model)  # Set the current model\n",
    "\n",
    "    # Training the model on the training data\n",
    "    pipeline.fit(X_train, y_train)\n",
    "\n",
    "    # Make predictions on the test data\n",
    "    y_pred = pipeline.predict(X_test)\n",
    "\n",
    "    # Evaluate the model's performance\n",
    "    accuracy = accuracy_score(y_test, y_pred)\n",
    "    precision = precision_score(y_test, y_pred, average='weighted', zero_division=0)\n",
    "    recall = recall_score(y_test, y_pred, average='weighted')\n",
    "    f1 = f1_score(y_test, y_pred, average='weighted')\n",
    "    confusion = confusion_matrix(y_test, y_pred)\n",
    "\n",
    "    # Print results for the models\n",
    "    print(f\"Model: {model_name}\")\n",
    "    print(f\"Accuracy: {accuracy:.4f}\")\n",
    "    print(f\"Precision: {precision:.4f}\")\n",
    "    print(f\"Recall: {recall:.4f}\")\n",
    "    print(f\"F1 Score: {f1:.4f}\")\n",
    "    print(\"Confusion Matrix:\")\n",
    "    print(confusion)\n",
    "    print(\"\\n\")\n"
   ]
  },
  {
   "cell_type": "markdown",
   "metadata": {},
   "source": [
    "**Random Forest Classifier** appears to have the highest accuracy and F1 Score among the models, making it a strong candidate. It outperforms the other models in terms of accuracy, precision, recall, and F1 score. It demonstrates a better ability to correctly classify both positive and negative instances while minimizing false positives and false negatives. Therefore, the Random Forest Classifier is the best model among the three for this classification task.\n",
    "\n",
    "When comaparing to the Logistic Regression baseline model: \n",
    "Based on the results, let's compare the best model -- Random Forest Classifier with the baseline Logistic Regression model:\n",
    "\n",
    "**Random Forest Classifier:**\n",
    "- Accuracy: 0.8995\n",
    "- Precision: 0.8908\n",
    "- Recall: 0.8995\n",
    "- F1 Score: 0.8854\n",
    "- Confusion Matrix: \n",
    "  [[369, 7],\n",
    "  [37, 25]]\n",
    "\n",
    "**Logistic Regression (Baseline):**\n",
    "- Accuracy: 0.8789954337899544\n",
    "- Precision: 0.68\n",
    "- Recall: 0.27419354838709675\n",
    "- F1 Score: 0.39080459770114945\n",
    "- Confusion Matrix:\n",
    "  [[368, 8],\n",
    "  [45, 17]]\n",
    "\n",
    "\n",
    "1. **Accuracy**: The Random Forest Classifier outperforms the Logistic Regression model with higher accuracy `0.8995 compared to 0.8789`. It correctly classifies more instances.\n",
    "\n",
    "2. **Precision**: The Random Forest Classifier also has better precision `0.8908 compared to 0.68`. This indicates that when it predicts a positive class, it is correct almost 90% of the time, whereas the Logistic Regression model has lower precision.\n",
    "\n",
    "3. **Recall**: The Random Forest Classifier shows significantly higher recall `0.8995` compared to the baseline model's recall of `0.2742`. This means it captures a larger proportion of actual positive instances, addressing one of the shortcomings of the baseline model.\n",
    "\n",
    "4. **F1 Score**: The F1 Score of the Random Forest Classifier `0.8854` is considerably higher than the baseline model's F1 Score 0.3908. This demonstrates that the Random Forest model provides a better balance between precision and recall.\n",
    "\n",
    "5. **Confusion Matrix**: The Random Forest Classifier has fewer false negatives `37` compared to the baseline model `45`, which is a crucial improvement. It also has a lower number of false positives `7` compared to the baseline model `8`.\n",
    "\n",
    "**Random Forest Classifier** significantly outperforms being an appropriate model for this specific problem and dataset.\n",
    "\n",
    "**Next step**, would be to further fine-tune hyperparameters to improve the model's performance."
   ]
  },
  {
   "cell_type": "markdown",
   "metadata": {},
   "source": [
    "### **Hyperparameter Tuning:** \n",
    "The next step in our model development process is `hyperparameter` tuning. It is a crucial step in model development that can lead to significant performance gains and ensure that the model is optimized for the specific problem. We will apply this to our Random Forest Classifier's performance. We use techniques like Grid Search with Cross-Validation to fine-tune the model's hyperparameters.\n",
    "\n",
    "- **Grid Search**: Grid Search is an effective technique for hyperparameter tuning. It searches through a predefined set of hyperparameters, making it suitable for cases where you have a good idea of what hyperparameters to explore.\n",
    "\n",
    "- **Cross-Validation**: The use of cross-validation helps estimate the model's performance more accurately. By helping detect overfitting by evaluating the model's performance on multiple test subsets."
   ]
  },
  {
   "cell_type": "code",
   "execution_count": 26,
   "metadata": {
    "scrolled": false
   },
   "outputs": [
    {
     "name": "stdout",
     "output_type": "stream",
     "text": [
      "Best Hyperparameters: {'classifier__max_depth': 20, 'classifier__min_samples_leaf': 1, 'classifier__min_samples_split': 2, 'classifier__n_estimators': 150}\n",
      "Tuned Random Forest Classifier:\n",
      "Accuracy: 0.9064\n",
      "Precision: 0.9001\n",
      "Recall: 0.9064\n",
      "F1 Score: 0.8938\n",
      "Confusion Matrix:\n",
      "[[370   6]\n",
      " [ 35  27]]\n"
     ]
    }
   ],
   "source": [
    "# Import Grid Search to perform hyperparameter tuning\n",
    "from sklearn.model_selection import GridSearchCV\n",
    "\n",
    "# Create a pipeline with hyperparameter tuning\n",
    "pipeline = Pipeline([\n",
    "    ('scaler', StandardScaler()),       # Step 1: Data Scaling\n",
    "    ('feature_selector', SelectKBest(score_func=f_classif, k=5)),  # Step 2: Feature Selection\n",
    "    ('classifier', RandomForestClassifier())  # Step 3: Model Training\n",
    "])\n",
    "\n",
    "# Hyperparameters to tune\n",
    "param_grid = {\n",
    "    'classifier__n_estimators': [100, 150, 200, 250, 300],\n",
    "    'classifier__max_depth': [10, 20, 30],\n",
    "    'classifier__min_samples_split': [2, 5, 10],\n",
    "    'classifier__min_samples_leaf': [1, 2, 4]\n",
    "}\n",
    "\n",
    "# Grid Search with Cross-Validation\n",
    "grid_search = GridSearchCV(estimator=pipeline, param_grid=param_grid, cv=5, scoring='accuracy')\n",
    "grid_search.fit(X_train, y_train)\n",
    "\n",
    "# Getting the best hyperparameters\n",
    "best_params = grid_search.best_params_\n",
    "print(\"Best Hyperparameters:\", best_params)\n",
    "\n",
    "# Cross-Validation Scores\n",
    "cv_results = grid_search.cv_results_\n",
    "mean_cv_scores = cv_results['mean_test_score']\n",
    "std_cv_scores = cv_results['std_test_score']\n",
    "\n",
    "# Train the model with the best hyperparameters\n",
    "best_rf_classifier = grid_search.best_estimator_\n",
    "best_rf_classifier.fit(X_train, y_train)\n",
    "\n",
    "# Model Evaluation\n",
    "y_pred = best_rf_classifier.predict(X_test)\n",
    "accuracy = accuracy_score(y_test, y_pred)\n",
    "precision = precision_score(y_test, y_pred, average='weighted', zero_division=0)\n",
    "recall = recall_score(y_test, y_pred, average='weighted')\n",
    "f1 = f1_score(y_test, y_pred, average='weighted')\n",
    "confusion = confusion_matrix(y_test, y_pred)\n",
    "print(\"Tuned Random Forest Classifier:\")\n",
    "print(f\"Accuracy: {accuracy:.4f}\")\n",
    "print(f\"Precision: {precision:.4f}\")\n",
    "print(f\"Recall: {recall:.4f}\")\n",
    "print(f\"F1 Score: {f1:.4f}\")\n",
    "print(\"Confusion Matrix:\")\n",
    "print(confusion)"
   ]
  },
  {
   "cell_type": "markdown",
   "metadata": {},
   "source": [
    "**Best Hyperparameters**: The best hyperparameters for the Random Forest Classifier are `{'classifier__max_depth': 20, 'classifier__min_samples_leaf': 1, 'classifier__min_samples_split': 2, 'classifier__n_estimators': 150}`.\n",
    "\n",
    "After tuning the Random Forest Classifier, we see some improvements in the model's performance compared to the untuned version. Here are the key improvements:\n",
    "\n",
    "1. **Accuracy Improvement**: The accuracy of the tuned Random Forest Classifier (0.9064) is slightly higher.\n",
    "\n",
    "2. **Precision Improvement**: Precision, which measures the model's ability to make correct positive predictions, has improved as well.\n",
    "\n",
    "4. **Recall Improvement**: Recall, which measures the model's ability to correctly identify positive instances, is higher for the tuned model.\n",
    "\n",
    "5. **F1 Score Improvement**: The F1 score, which combines both precision and recall, has also improved.\n",
    "\n",
    "6. **Confusion Matrix Improvement**: The confusion matrix shows that the tuned model has fewer false negatives (35) compared to the untuned model (37)."
   ]
  },
  {
   "cell_type": "markdown",
   "metadata": {},
   "source": [
    "We can look at a visualization from our improvements by creating a **Performance Metrics Radar Chart:** This chart will display multiple performance metrics accuracy, precision, eecall, and F1 score; for both the baseline model and the tuned Random Forest Classifier. \n",
    "- To create a radar chart, we will use the `Plotly library`."
   ]
  },
  {
   "cell_type": "code",
   "execution_count": 30,
   "metadata": {},
   "outputs": [
    {
     "data": {
      "application/vnd.plotly.v1+json": {
       "config": {
        "plotlyServerURL": "https://plot.ly"
       },
       "data": [
        {
         "hovertemplate": "Baseline=%{r}<br>Metrics=%{theta}<extra></extra>",
         "legendgroup": "",
         "line": {
          "color": "#636efa",
          "dash": "solid"
         },
         "mode": "lines",
         "name": "",
         "r": [
          0.8789954337899544,
          0.68,
          0.27419354838709675,
          0.39080459770114945,
          0.8789954337899544
         ],
         "showlegend": false,
         "subplot": "polar",
         "theta": [
          "Accuracy",
          "Precision",
          "Recall",
          "F1 Score",
          "Accuracy"
         ],
         "type": "scatterpolar"
        },
        {
         "hovertemplate": "Tuned Model=%{r}<br>Metrics=%{theta}<extra></extra>",
         "legendgroup": "",
         "line": {
          "color": "#636efa",
          "dash": "solid"
         },
         "mode": "lines",
         "name": "",
         "r": [
          0.9064,
          0.9001,
          0.9064,
          0.8938,
          0.9064
         ],
         "showlegend": false,
         "subplot": "polar",
         "theta": [
          "Accuracy",
          "Precision",
          "Recall",
          "F1 Score",
          "Accuracy"
         ],
         "type": "scatterpolar"
        }
       ],
       "layout": {
        "legend": {
         "tracegroupgap": 0
        },
        "polar": {
         "angularaxis": {
          "direction": "clockwise",
          "rotation": 90
         },
         "domain": {
          "x": [
           0,
           1
          ],
          "y": [
           0,
           1
          ]
         }
        },
        "template": {
         "data": {
          "bar": [
           {
            "error_x": {
             "color": "#2a3f5f"
            },
            "error_y": {
             "color": "#2a3f5f"
            },
            "marker": {
             "line": {
              "color": "#E5ECF6",
              "width": 0.5
             }
            },
            "type": "bar"
           }
          ],
          "barpolar": [
           {
            "marker": {
             "line": {
              "color": "#E5ECF6",
              "width": 0.5
             }
            },
            "type": "barpolar"
           }
          ],
          "carpet": [
           {
            "aaxis": {
             "endlinecolor": "#2a3f5f",
             "gridcolor": "white",
             "linecolor": "white",
             "minorgridcolor": "white",
             "startlinecolor": "#2a3f5f"
            },
            "baxis": {
             "endlinecolor": "#2a3f5f",
             "gridcolor": "white",
             "linecolor": "white",
             "minorgridcolor": "white",
             "startlinecolor": "#2a3f5f"
            },
            "type": "carpet"
           }
          ],
          "choropleth": [
           {
            "colorbar": {
             "outlinewidth": 0,
             "ticks": ""
            },
            "type": "choropleth"
           }
          ],
          "contour": [
           {
            "colorbar": {
             "outlinewidth": 0,
             "ticks": ""
            },
            "colorscale": [
             [
              0,
              "#0d0887"
             ],
             [
              0.1111111111111111,
              "#46039f"
             ],
             [
              0.2222222222222222,
              "#7201a8"
             ],
             [
              0.3333333333333333,
              "#9c179e"
             ],
             [
              0.4444444444444444,
              "#bd3786"
             ],
             [
              0.5555555555555556,
              "#d8576b"
             ],
             [
              0.6666666666666666,
              "#ed7953"
             ],
             [
              0.7777777777777778,
              "#fb9f3a"
             ],
             [
              0.8888888888888888,
              "#fdca26"
             ],
             [
              1,
              "#f0f921"
             ]
            ],
            "type": "contour"
           }
          ],
          "contourcarpet": [
           {
            "colorbar": {
             "outlinewidth": 0,
             "ticks": ""
            },
            "type": "contourcarpet"
           }
          ],
          "heatmap": [
           {
            "colorbar": {
             "outlinewidth": 0,
             "ticks": ""
            },
            "colorscale": [
             [
              0,
              "#0d0887"
             ],
             [
              0.1111111111111111,
              "#46039f"
             ],
             [
              0.2222222222222222,
              "#7201a8"
             ],
             [
              0.3333333333333333,
              "#9c179e"
             ],
             [
              0.4444444444444444,
              "#bd3786"
             ],
             [
              0.5555555555555556,
              "#d8576b"
             ],
             [
              0.6666666666666666,
              "#ed7953"
             ],
             [
              0.7777777777777778,
              "#fb9f3a"
             ],
             [
              0.8888888888888888,
              "#fdca26"
             ],
             [
              1,
              "#f0f921"
             ]
            ],
            "type": "heatmap"
           }
          ],
          "heatmapgl": [
           {
            "colorbar": {
             "outlinewidth": 0,
             "ticks": ""
            },
            "colorscale": [
             [
              0,
              "#0d0887"
             ],
             [
              0.1111111111111111,
              "#46039f"
             ],
             [
              0.2222222222222222,
              "#7201a8"
             ],
             [
              0.3333333333333333,
              "#9c179e"
             ],
             [
              0.4444444444444444,
              "#bd3786"
             ],
             [
              0.5555555555555556,
              "#d8576b"
             ],
             [
              0.6666666666666666,
              "#ed7953"
             ],
             [
              0.7777777777777778,
              "#fb9f3a"
             ],
             [
              0.8888888888888888,
              "#fdca26"
             ],
             [
              1,
              "#f0f921"
             ]
            ],
            "type": "heatmapgl"
           }
          ],
          "histogram": [
           {
            "marker": {
             "colorbar": {
              "outlinewidth": 0,
              "ticks": ""
             }
            },
            "type": "histogram"
           }
          ],
          "histogram2d": [
           {
            "colorbar": {
             "outlinewidth": 0,
             "ticks": ""
            },
            "colorscale": [
             [
              0,
              "#0d0887"
             ],
             [
              0.1111111111111111,
              "#46039f"
             ],
             [
              0.2222222222222222,
              "#7201a8"
             ],
             [
              0.3333333333333333,
              "#9c179e"
             ],
             [
              0.4444444444444444,
              "#bd3786"
             ],
             [
              0.5555555555555556,
              "#d8576b"
             ],
             [
              0.6666666666666666,
              "#ed7953"
             ],
             [
              0.7777777777777778,
              "#fb9f3a"
             ],
             [
              0.8888888888888888,
              "#fdca26"
             ],
             [
              1,
              "#f0f921"
             ]
            ],
            "type": "histogram2d"
           }
          ],
          "histogram2dcontour": [
           {
            "colorbar": {
             "outlinewidth": 0,
             "ticks": ""
            },
            "colorscale": [
             [
              0,
              "#0d0887"
             ],
             [
              0.1111111111111111,
              "#46039f"
             ],
             [
              0.2222222222222222,
              "#7201a8"
             ],
             [
              0.3333333333333333,
              "#9c179e"
             ],
             [
              0.4444444444444444,
              "#bd3786"
             ],
             [
              0.5555555555555556,
              "#d8576b"
             ],
             [
              0.6666666666666666,
              "#ed7953"
             ],
             [
              0.7777777777777778,
              "#fb9f3a"
             ],
             [
              0.8888888888888888,
              "#fdca26"
             ],
             [
              1,
              "#f0f921"
             ]
            ],
            "type": "histogram2dcontour"
           }
          ],
          "mesh3d": [
           {
            "colorbar": {
             "outlinewidth": 0,
             "ticks": ""
            },
            "type": "mesh3d"
           }
          ],
          "parcoords": [
           {
            "line": {
             "colorbar": {
              "outlinewidth": 0,
              "ticks": ""
             }
            },
            "type": "parcoords"
           }
          ],
          "pie": [
           {
            "automargin": true,
            "type": "pie"
           }
          ],
          "scatter": [
           {
            "marker": {
             "colorbar": {
              "outlinewidth": 0,
              "ticks": ""
             }
            },
            "type": "scatter"
           }
          ],
          "scatter3d": [
           {
            "line": {
             "colorbar": {
              "outlinewidth": 0,
              "ticks": ""
             }
            },
            "marker": {
             "colorbar": {
              "outlinewidth": 0,
              "ticks": ""
             }
            },
            "type": "scatter3d"
           }
          ],
          "scattercarpet": [
           {
            "marker": {
             "colorbar": {
              "outlinewidth": 0,
              "ticks": ""
             }
            },
            "type": "scattercarpet"
           }
          ],
          "scattergeo": [
           {
            "marker": {
             "colorbar": {
              "outlinewidth": 0,
              "ticks": ""
             }
            },
            "type": "scattergeo"
           }
          ],
          "scattergl": [
           {
            "marker": {
             "colorbar": {
              "outlinewidth": 0,
              "ticks": ""
             }
            },
            "type": "scattergl"
           }
          ],
          "scattermapbox": [
           {
            "marker": {
             "colorbar": {
              "outlinewidth": 0,
              "ticks": ""
             }
            },
            "type": "scattermapbox"
           }
          ],
          "scatterpolar": [
           {
            "marker": {
             "colorbar": {
              "outlinewidth": 0,
              "ticks": ""
             }
            },
            "type": "scatterpolar"
           }
          ],
          "scatterpolargl": [
           {
            "marker": {
             "colorbar": {
              "outlinewidth": 0,
              "ticks": ""
             }
            },
            "type": "scatterpolargl"
           }
          ],
          "scatterternary": [
           {
            "marker": {
             "colorbar": {
              "outlinewidth": 0,
              "ticks": ""
             }
            },
            "type": "scatterternary"
           }
          ],
          "surface": [
           {
            "colorbar": {
             "outlinewidth": 0,
             "ticks": ""
            },
            "colorscale": [
             [
              0,
              "#0d0887"
             ],
             [
              0.1111111111111111,
              "#46039f"
             ],
             [
              0.2222222222222222,
              "#7201a8"
             ],
             [
              0.3333333333333333,
              "#9c179e"
             ],
             [
              0.4444444444444444,
              "#bd3786"
             ],
             [
              0.5555555555555556,
              "#d8576b"
             ],
             [
              0.6666666666666666,
              "#ed7953"
             ],
             [
              0.7777777777777778,
              "#fb9f3a"
             ],
             [
              0.8888888888888888,
              "#fdca26"
             ],
             [
              1,
              "#f0f921"
             ]
            ],
            "type": "surface"
           }
          ],
          "table": [
           {
            "cells": {
             "fill": {
              "color": "#EBF0F8"
             },
             "line": {
              "color": "white"
             }
            },
            "header": {
             "fill": {
              "color": "#C8D4E3"
             },
             "line": {
              "color": "white"
             }
            },
            "type": "table"
           }
          ]
         },
         "layout": {
          "annotationdefaults": {
           "arrowcolor": "#2a3f5f",
           "arrowhead": 0,
           "arrowwidth": 1
          },
          "coloraxis": {
           "colorbar": {
            "outlinewidth": 0,
            "ticks": ""
           }
          },
          "colorscale": {
           "diverging": [
            [
             0,
             "#8e0152"
            ],
            [
             0.1,
             "#c51b7d"
            ],
            [
             0.2,
             "#de77ae"
            ],
            [
             0.3,
             "#f1b6da"
            ],
            [
             0.4,
             "#fde0ef"
            ],
            [
             0.5,
             "#f7f7f7"
            ],
            [
             0.6,
             "#e6f5d0"
            ],
            [
             0.7,
             "#b8e186"
            ],
            [
             0.8,
             "#7fbc41"
            ],
            [
             0.9,
             "#4d9221"
            ],
            [
             1,
             "#276419"
            ]
           ],
           "sequential": [
            [
             0,
             "#0d0887"
            ],
            [
             0.1111111111111111,
             "#46039f"
            ],
            [
             0.2222222222222222,
             "#7201a8"
            ],
            [
             0.3333333333333333,
             "#9c179e"
            ],
            [
             0.4444444444444444,
             "#bd3786"
            ],
            [
             0.5555555555555556,
             "#d8576b"
            ],
            [
             0.6666666666666666,
             "#ed7953"
            ],
            [
             0.7777777777777778,
             "#fb9f3a"
            ],
            [
             0.8888888888888888,
             "#fdca26"
            ],
            [
             1,
             "#f0f921"
            ]
           ],
           "sequentialminus": [
            [
             0,
             "#0d0887"
            ],
            [
             0.1111111111111111,
             "#46039f"
            ],
            [
             0.2222222222222222,
             "#7201a8"
            ],
            [
             0.3333333333333333,
             "#9c179e"
            ],
            [
             0.4444444444444444,
             "#bd3786"
            ],
            [
             0.5555555555555556,
             "#d8576b"
            ],
            [
             0.6666666666666666,
             "#ed7953"
            ],
            [
             0.7777777777777778,
             "#fb9f3a"
            ],
            [
             0.8888888888888888,
             "#fdca26"
            ],
            [
             1,
             "#f0f921"
            ]
           ]
          },
          "colorway": [
           "#636efa",
           "#EF553B",
           "#00cc96",
           "#ab63fa",
           "#FFA15A",
           "#19d3f3",
           "#FF6692",
           "#B6E880",
           "#FF97FF",
           "#FECB52"
          ],
          "font": {
           "color": "#2a3f5f"
          },
          "geo": {
           "bgcolor": "white",
           "lakecolor": "white",
           "landcolor": "#E5ECF6",
           "showlakes": true,
           "showland": true,
           "subunitcolor": "white"
          },
          "hoverlabel": {
           "align": "left"
          },
          "hovermode": "closest",
          "mapbox": {
           "style": "light"
          },
          "paper_bgcolor": "white",
          "plot_bgcolor": "#E5ECF6",
          "polar": {
           "angularaxis": {
            "gridcolor": "white",
            "linecolor": "white",
            "ticks": ""
           },
           "bgcolor": "#E5ECF6",
           "radialaxis": {
            "gridcolor": "white",
            "linecolor": "white",
            "ticks": ""
           }
          },
          "scene": {
           "xaxis": {
            "backgroundcolor": "#E5ECF6",
            "gridcolor": "white",
            "gridwidth": 2,
            "linecolor": "white",
            "showbackground": true,
            "ticks": "",
            "zerolinecolor": "white"
           },
           "yaxis": {
            "backgroundcolor": "#E5ECF6",
            "gridcolor": "white",
            "gridwidth": 2,
            "linecolor": "white",
            "showbackground": true,
            "ticks": "",
            "zerolinecolor": "white"
           },
           "zaxis": {
            "backgroundcolor": "#E5ECF6",
            "gridcolor": "white",
            "gridwidth": 2,
            "linecolor": "white",
            "showbackground": true,
            "ticks": "",
            "zerolinecolor": "white"
           }
          },
          "shapedefaults": {
           "line": {
            "color": "#2a3f5f"
           }
          },
          "ternary": {
           "aaxis": {
            "gridcolor": "white",
            "linecolor": "white",
            "ticks": ""
           },
           "baxis": {
            "gridcolor": "white",
            "linecolor": "white",
            "ticks": ""
           },
           "bgcolor": "#E5ECF6",
           "caxis": {
            "gridcolor": "white",
            "linecolor": "white",
            "ticks": ""
           }
          },
          "title": {
           "x": 0.05
          },
          "xaxis": {
           "automargin": true,
           "gridcolor": "white",
           "linecolor": "white",
           "ticks": "",
           "title": {
            "standoff": 15
           },
           "zerolinecolor": "white",
           "zerolinewidth": 2
          },
          "yaxis": {
           "automargin": true,
           "gridcolor": "white",
           "linecolor": "white",
           "ticks": "",
           "title": {
            "standoff": 15
           },
           "zerolinecolor": "white",
           "zerolinewidth": 2
          }
         }
        },
        "title": {
         "text": "Performance Metrics Comparison"
        }
       }
      },
      "text/html": [
       "<div>                            <div id=\"a32a7fd5-3c35-4a91-a343-05ee5192b4a9\" class=\"plotly-graph-div\" style=\"height:525px; width:100%;\"></div>            <script type=\"text/javascript\">                require([\"plotly\"], function(Plotly) {                    window.PLOTLYENV=window.PLOTLYENV || {};                                    if (document.getElementById(\"a32a7fd5-3c35-4a91-a343-05ee5192b4a9\")) {                    Plotly.newPlot(                        \"a32a7fd5-3c35-4a91-a343-05ee5192b4a9\",                        [{\"hovertemplate\": \"Baseline=%{r}<br>Metrics=%{theta}<extra></extra>\", \"legendgroup\": \"\", \"line\": {\"color\": \"#636efa\", \"dash\": \"solid\"}, \"mode\": \"lines\", \"name\": \"\", \"r\": [0.8789954337899544, 0.68, 0.27419354838709675, 0.39080459770114945, 0.8789954337899544], \"showlegend\": false, \"subplot\": \"polar\", \"theta\": [\"Accuracy\", \"Precision\", \"Recall\", \"F1 Score\", \"Accuracy\"], \"type\": \"scatterpolar\"}, {\"hovertemplate\": \"Tuned Model=%{r}<br>Metrics=%{theta}<extra></extra>\", \"legendgroup\": \"\", \"line\": {\"color\": \"#636efa\", \"dash\": \"solid\"}, \"mode\": \"lines\", \"name\": \"\", \"r\": [0.9064, 0.9001, 0.9064, 0.8938, 0.9064], \"showlegend\": false, \"subplot\": \"polar\", \"theta\": [\"Accuracy\", \"Precision\", \"Recall\", \"F1 Score\", \"Accuracy\"], \"type\": \"scatterpolar\"}],                        {\"legend\": {\"tracegroupgap\": 0}, \"polar\": {\"angularaxis\": {\"direction\": \"clockwise\", \"rotation\": 90}, \"domain\": {\"x\": [0.0, 1.0], \"y\": [0.0, 1.0]}}, \"template\": {\"data\": {\"bar\": [{\"error_x\": {\"color\": \"#2a3f5f\"}, \"error_y\": {\"color\": \"#2a3f5f\"}, \"marker\": {\"line\": {\"color\": \"#E5ECF6\", \"width\": 0.5}}, \"type\": \"bar\"}], \"barpolar\": [{\"marker\": {\"line\": {\"color\": \"#E5ECF6\", \"width\": 0.5}}, \"type\": \"barpolar\"}], \"carpet\": [{\"aaxis\": {\"endlinecolor\": \"#2a3f5f\", \"gridcolor\": \"white\", \"linecolor\": \"white\", \"minorgridcolor\": \"white\", \"startlinecolor\": \"#2a3f5f\"}, \"baxis\": {\"endlinecolor\": \"#2a3f5f\", \"gridcolor\": \"white\", \"linecolor\": \"white\", \"minorgridcolor\": \"white\", \"startlinecolor\": \"#2a3f5f\"}, \"type\": \"carpet\"}], \"choropleth\": [{\"colorbar\": {\"outlinewidth\": 0, \"ticks\": \"\"}, \"type\": \"choropleth\"}], \"contour\": [{\"colorbar\": {\"outlinewidth\": 0, \"ticks\": \"\"}, \"colorscale\": [[0.0, \"#0d0887\"], [0.1111111111111111, \"#46039f\"], [0.2222222222222222, \"#7201a8\"], [0.3333333333333333, \"#9c179e\"], [0.4444444444444444, \"#bd3786\"], [0.5555555555555556, \"#d8576b\"], [0.6666666666666666, \"#ed7953\"], [0.7777777777777778, \"#fb9f3a\"], [0.8888888888888888, \"#fdca26\"], [1.0, \"#f0f921\"]], \"type\": \"contour\"}], \"contourcarpet\": [{\"colorbar\": {\"outlinewidth\": 0, \"ticks\": \"\"}, \"type\": \"contourcarpet\"}], \"heatmap\": [{\"colorbar\": {\"outlinewidth\": 0, \"ticks\": \"\"}, \"colorscale\": [[0.0, \"#0d0887\"], [0.1111111111111111, \"#46039f\"], [0.2222222222222222, \"#7201a8\"], [0.3333333333333333, \"#9c179e\"], [0.4444444444444444, \"#bd3786\"], [0.5555555555555556, \"#d8576b\"], [0.6666666666666666, \"#ed7953\"], [0.7777777777777778, \"#fb9f3a\"], [0.8888888888888888, \"#fdca26\"], [1.0, \"#f0f921\"]], \"type\": \"heatmap\"}], \"heatmapgl\": [{\"colorbar\": {\"outlinewidth\": 0, \"ticks\": \"\"}, \"colorscale\": [[0.0, \"#0d0887\"], [0.1111111111111111, \"#46039f\"], [0.2222222222222222, \"#7201a8\"], [0.3333333333333333, \"#9c179e\"], [0.4444444444444444, \"#bd3786\"], [0.5555555555555556, \"#d8576b\"], [0.6666666666666666, \"#ed7953\"], [0.7777777777777778, \"#fb9f3a\"], [0.8888888888888888, \"#fdca26\"], [1.0, \"#f0f921\"]], \"type\": \"heatmapgl\"}], \"histogram\": [{\"marker\": {\"colorbar\": {\"outlinewidth\": 0, \"ticks\": \"\"}}, \"type\": \"histogram\"}], \"histogram2d\": [{\"colorbar\": {\"outlinewidth\": 0, \"ticks\": \"\"}, \"colorscale\": [[0.0, \"#0d0887\"], [0.1111111111111111, \"#46039f\"], [0.2222222222222222, \"#7201a8\"], [0.3333333333333333, \"#9c179e\"], [0.4444444444444444, \"#bd3786\"], [0.5555555555555556, \"#d8576b\"], [0.6666666666666666, \"#ed7953\"], [0.7777777777777778, \"#fb9f3a\"], [0.8888888888888888, \"#fdca26\"], [1.0, \"#f0f921\"]], \"type\": \"histogram2d\"}], \"histogram2dcontour\": [{\"colorbar\": {\"outlinewidth\": 0, \"ticks\": \"\"}, \"colorscale\": [[0.0, \"#0d0887\"], [0.1111111111111111, \"#46039f\"], [0.2222222222222222, \"#7201a8\"], [0.3333333333333333, \"#9c179e\"], [0.4444444444444444, \"#bd3786\"], [0.5555555555555556, \"#d8576b\"], [0.6666666666666666, \"#ed7953\"], [0.7777777777777778, \"#fb9f3a\"], [0.8888888888888888, \"#fdca26\"], [1.0, \"#f0f921\"]], \"type\": \"histogram2dcontour\"}], \"mesh3d\": [{\"colorbar\": {\"outlinewidth\": 0, \"ticks\": \"\"}, \"type\": \"mesh3d\"}], \"parcoords\": [{\"line\": {\"colorbar\": {\"outlinewidth\": 0, \"ticks\": \"\"}}, \"type\": \"parcoords\"}], \"pie\": [{\"automargin\": true, \"type\": \"pie\"}], \"scatter\": [{\"marker\": {\"colorbar\": {\"outlinewidth\": 0, \"ticks\": \"\"}}, \"type\": \"scatter\"}], \"scatter3d\": [{\"line\": {\"colorbar\": {\"outlinewidth\": 0, \"ticks\": \"\"}}, \"marker\": {\"colorbar\": {\"outlinewidth\": 0, \"ticks\": \"\"}}, \"type\": \"scatter3d\"}], \"scattercarpet\": [{\"marker\": {\"colorbar\": {\"outlinewidth\": 0, \"ticks\": \"\"}}, \"type\": \"scattercarpet\"}], \"scattergeo\": [{\"marker\": {\"colorbar\": {\"outlinewidth\": 0, \"ticks\": \"\"}}, \"type\": \"scattergeo\"}], \"scattergl\": [{\"marker\": {\"colorbar\": {\"outlinewidth\": 0, \"ticks\": \"\"}}, \"type\": \"scattergl\"}], \"scattermapbox\": [{\"marker\": {\"colorbar\": {\"outlinewidth\": 0, \"ticks\": \"\"}}, \"type\": \"scattermapbox\"}], \"scatterpolar\": [{\"marker\": {\"colorbar\": {\"outlinewidth\": 0, \"ticks\": \"\"}}, \"type\": \"scatterpolar\"}], \"scatterpolargl\": [{\"marker\": {\"colorbar\": {\"outlinewidth\": 0, \"ticks\": \"\"}}, \"type\": \"scatterpolargl\"}], \"scatterternary\": [{\"marker\": {\"colorbar\": {\"outlinewidth\": 0, \"ticks\": \"\"}}, \"type\": \"scatterternary\"}], \"surface\": [{\"colorbar\": {\"outlinewidth\": 0, \"ticks\": \"\"}, \"colorscale\": [[0.0, \"#0d0887\"], [0.1111111111111111, \"#46039f\"], [0.2222222222222222, \"#7201a8\"], [0.3333333333333333, \"#9c179e\"], [0.4444444444444444, \"#bd3786\"], [0.5555555555555556, \"#d8576b\"], [0.6666666666666666, \"#ed7953\"], [0.7777777777777778, \"#fb9f3a\"], [0.8888888888888888, \"#fdca26\"], [1.0, \"#f0f921\"]], \"type\": \"surface\"}], \"table\": [{\"cells\": {\"fill\": {\"color\": \"#EBF0F8\"}, \"line\": {\"color\": \"white\"}}, \"header\": {\"fill\": {\"color\": \"#C8D4E3\"}, \"line\": {\"color\": \"white\"}}, \"type\": \"table\"}]}, \"layout\": {\"annotationdefaults\": {\"arrowcolor\": \"#2a3f5f\", \"arrowhead\": 0, \"arrowwidth\": 1}, \"coloraxis\": {\"colorbar\": {\"outlinewidth\": 0, \"ticks\": \"\"}}, \"colorscale\": {\"diverging\": [[0, \"#8e0152\"], [0.1, \"#c51b7d\"], [0.2, \"#de77ae\"], [0.3, \"#f1b6da\"], [0.4, \"#fde0ef\"], [0.5, \"#f7f7f7\"], [0.6, \"#e6f5d0\"], [0.7, \"#b8e186\"], [0.8, \"#7fbc41\"], [0.9, \"#4d9221\"], [1, \"#276419\"]], \"sequential\": [[0.0, \"#0d0887\"], [0.1111111111111111, \"#46039f\"], [0.2222222222222222, \"#7201a8\"], [0.3333333333333333, \"#9c179e\"], [0.4444444444444444, \"#bd3786\"], [0.5555555555555556, \"#d8576b\"], [0.6666666666666666, \"#ed7953\"], [0.7777777777777778, \"#fb9f3a\"], [0.8888888888888888, \"#fdca26\"], [1.0, \"#f0f921\"]], \"sequentialminus\": [[0.0, \"#0d0887\"], [0.1111111111111111, \"#46039f\"], [0.2222222222222222, \"#7201a8\"], [0.3333333333333333, \"#9c179e\"], [0.4444444444444444, \"#bd3786\"], [0.5555555555555556, \"#d8576b\"], [0.6666666666666666, \"#ed7953\"], [0.7777777777777778, \"#fb9f3a\"], [0.8888888888888888, \"#fdca26\"], [1.0, \"#f0f921\"]]}, \"colorway\": [\"#636efa\", \"#EF553B\", \"#00cc96\", \"#ab63fa\", \"#FFA15A\", \"#19d3f3\", \"#FF6692\", \"#B6E880\", \"#FF97FF\", \"#FECB52\"], \"font\": {\"color\": \"#2a3f5f\"}, \"geo\": {\"bgcolor\": \"white\", \"lakecolor\": \"white\", \"landcolor\": \"#E5ECF6\", \"showlakes\": true, \"showland\": true, \"subunitcolor\": \"white\"}, \"hoverlabel\": {\"align\": \"left\"}, \"hovermode\": \"closest\", \"mapbox\": {\"style\": \"light\"}, \"paper_bgcolor\": \"white\", \"plot_bgcolor\": \"#E5ECF6\", \"polar\": {\"angularaxis\": {\"gridcolor\": \"white\", \"linecolor\": \"white\", \"ticks\": \"\"}, \"bgcolor\": \"#E5ECF6\", \"radialaxis\": {\"gridcolor\": \"white\", \"linecolor\": \"white\", \"ticks\": \"\"}}, \"scene\": {\"xaxis\": {\"backgroundcolor\": \"#E5ECF6\", \"gridcolor\": \"white\", \"gridwidth\": 2, \"linecolor\": \"white\", \"showbackground\": true, \"ticks\": \"\", \"zerolinecolor\": \"white\"}, \"yaxis\": {\"backgroundcolor\": \"#E5ECF6\", \"gridcolor\": \"white\", \"gridwidth\": 2, \"linecolor\": \"white\", \"showbackground\": true, \"ticks\": \"\", \"zerolinecolor\": \"white\"}, \"zaxis\": {\"backgroundcolor\": \"#E5ECF6\", \"gridcolor\": \"white\", \"gridwidth\": 2, \"linecolor\": \"white\", \"showbackground\": true, \"ticks\": \"\", \"zerolinecolor\": \"white\"}}, \"shapedefaults\": {\"line\": {\"color\": \"#2a3f5f\"}}, \"ternary\": {\"aaxis\": {\"gridcolor\": \"white\", \"linecolor\": \"white\", \"ticks\": \"\"}, \"baxis\": {\"gridcolor\": \"white\", \"linecolor\": \"white\", \"ticks\": \"\"}, \"bgcolor\": \"#E5ECF6\", \"caxis\": {\"gridcolor\": \"white\", \"linecolor\": \"white\", \"ticks\": \"\"}}, \"title\": {\"x\": 0.05}, \"xaxis\": {\"automargin\": true, \"gridcolor\": \"white\", \"linecolor\": \"white\", \"ticks\": \"\", \"title\": {\"standoff\": 15}, \"zerolinecolor\": \"white\", \"zerolinewidth\": 2}, \"yaxis\": {\"automargin\": true, \"gridcolor\": \"white\", \"linecolor\": \"white\", \"ticks\": \"\", \"title\": {\"standoff\": 15}, \"zerolinecolor\": \"white\", \"zerolinewidth\": 2}}}, \"title\": {\"text\": \"Performance Metrics Comparison\"}},                        {\"responsive\": true}                    ).then(function(){\n",
       "                            \n",
       "var gd = document.getElementById('a32a7fd5-3c35-4a91-a343-05ee5192b4a9');\n",
       "var x = new MutationObserver(function (mutations, observer) {{\n",
       "        var display = window.getComputedStyle(gd).display;\n",
       "        if (!display || display === 'none') {{\n",
       "            console.log([gd, 'removed!']);\n",
       "            Plotly.purge(gd);\n",
       "            observer.disconnect();\n",
       "        }}\n",
       "}});\n",
       "\n",
       "// Listen for the removal of the full notebook cells\n",
       "var notebookContainer = gd.closest('#notebook-container');\n",
       "if (notebookContainer) {{\n",
       "    x.observe(notebookContainer, {childList: true});\n",
       "}}\n",
       "\n",
       "// Listen for the clearing of the current output cell\n",
       "var outputEl = gd.closest('.output');\n",
       "if (outputEl) {{\n",
       "    x.observe(outputEl, {childList: true});\n",
       "}}\n",
       "\n",
       "                        })                };                });            </script>        </div>"
      ]
     },
     "metadata": {},
     "output_type": "display_data"
    }
   ],
   "source": [
    "# Import plotly\n",
    "import plotly.express as px\n",
    "\n",
    "# Create performance metrics for the baseline and tuned models\n",
    "metrics = ['Accuracy', 'Precision', 'Recall', 'F1 Score']\n",
    "baseline_values = [0.8789954337899544, 0.68, 0.27419354838709675, 0.39080459770114945]\n",
    "tuned_values = [0.9064, 0.9001, 0.9064, 0.8938]\n",
    "\n",
    "# Create DataFrame for the radar chart\n",
    "data = {'Metrics': metrics, 'Baseline': baseline_values, 'Tuned Model': tuned_values}\n",
    "df = pd.DataFrame(data)\n",
    "\n",
    "# Create radar chart\n",
    "fig = px.line_polar(df, r='Baseline', theta='Metrics', line_close=True, title=\"Performance Metrics Comparison\")\n",
    "fig.add_trace(px.line_polar(df, r='Tuned Model', theta='Metrics', line_close=True).data[0])\n",
    "\n",
    "# Show\n",
    "fig.show()\n"
   ]
  },
  {
   "cell_type": "markdown",
   "metadata": {},
   "source": [
    "We can see here theres bigger coverage on the chart from our `tuned model` than our `untuned model`. Proving to us visually it is a better model. "
   ]
  },
  {
   "cell_type": "markdown",
   "metadata": {},
   "source": [
    "### Feature Importance Analysis:\n",
    "Understanding feature importance helps will help us in discovering which features have the most impact on good wine quality.\n",
    "- **In our pervious pipeline above we have already found the 5 most influential features.**"
   ]
  },
  {
   "cell_type": "code",
   "execution_count": 31,
   "metadata": {},
   "outputs": [
    {
     "data": {
      "image/png": "[encoded data removed]",
      "text/plain": [
       "<Figure size 720x432 with 1 Axes>"
      ]
     },
     "metadata": {
      "needs_background": "light"
     },
     "output_type": "display_data"
    }
   ],
   "source": [
    "# Get the feature importances from the trained Random Forest Classifier\n",
    "feature_importances = best_rf_classifier.named_steps['classifier'].feature_importances_\n",
    "\n",
    "# Get the names of the selected features (top 5 in this case)\n",
    "selected_feature_names = X_train.columns[best_rf_classifier.named_steps['feature_selector'].get_support()]\n",
    "\n",
    "# Create a DataFrame to store feature names and their importances\n",
    "feature_importance_df = pd.DataFrame({\n",
    "    'Feature': selected_feature_names,\n",
    "    'Importance': feature_importances\n",
    "})\n",
    "\n",
    "# Sort the features by importance in descending order\n",
    "feature_importance_df = feature_importance_df.sort_values(by='Importance', ascending=False)\n",
    "\n",
    "# Create a bar plot for feature importance using a colormap\n",
    "plt.figure(figsize=(10, 6))\n",
    "colors = plt.cm.viridis(np.linspace(0, 1, len(feature_importance_df)))  # Use the viridis colormap\n",
    "\n",
    "# Sort the data in descending order\n",
    "feature_importance_df = feature_importance_df.sort_values(by='Importance', ascending=True)\n",
    "\n",
    "plt.barh(feature_importance_df['Feature'], feature_importance_df['Importance'], color=colors)\n",
    "plt.xlabel('Feature Importance')\n",
    "plt.ylabel('Feature')\n",
    "plt.title('Top 5 Important Features (Highest to Lowest)')\n",
    "\n",
    "plt.show()\n"
   ]
  },
  {
   "cell_type": "markdown",
   "metadata": {},
   "source": [
    "**Selected Features**:\n",
    "\n",
    "1. **Alcohol**: Alcohol content has a strong positive correlation with wine quality. Higher alcohol content is often associated with better quality wines, as it can contribute to the wine's flavor and body.\n",
    "\n",
    "2. **Sulphates**: Sulphates, which are sulfur-based compounds, have a positive correlation with wine quality. They can act as preservatives and antioxidants, contributing to the wine's stability and longevity.\n",
    "\n",
    "3. **Citric Acid**: Citric acid is often used as an additive in winemaking to increase acidity. Its presence can enhance the wine's freshness and tartness, which is desirable for some wine styles.\n",
    "\n",
    "4. **Total Sulfur Dioxide**: Total sulfur dioxide is an important feature as it can indicate the wine's overall chemical stability. It helps prevent spoilage and oxidation, ensuring that the wine maintains its quality over time.\n",
    "\n",
    "5. **Volatile Acidity**: Volatile acidity represents the presence of acetic acid in wine, and its selection indicates its importance in predicting wine quality. Low levels of volatile acidity are preferred, as high levels can lead to off-flavors, making the wine less enjoyable."
   ]
  },
  {
   "cell_type": "code",
   "execution_count": 32,
   "metadata": {},
   "outputs": [
    {
     "data": {
      "text/html": [
       "<div>\n",
       "<style scoped>\n",
       "    .dataframe tbody tr th:only-of-type {\n",
       "        vertical-align: middle;\n",
       "    }\n",
       "\n",
       "    .dataframe tbody tr th {\n",
       "        vertical-align: top;\n",
       "    }\n",
       "\n",
       "    .dataframe thead th {\n",
       "        text-align: right;\n",
       "    }\n",
       "</style>\n",
       "<table border=\"1\" class=\"dataframe\">\n",
       "  <thead>\n",
       "    <tr style=\"text-align: right;\">\n",
       "      <th></th>\n",
       "      <th>alcohol</th>\n",
       "      <th>sulphates</th>\n",
       "      <th>citric acid</th>\n",
       "      <th>total sulfur dioxide</th>\n",
       "      <th>volatile acidity</th>\n",
       "    </tr>\n",
       "  </thead>\n",
       "  <tbody>\n",
       "    <tr>\n",
       "      <th>count</th>\n",
       "      <td>201.000000</td>\n",
       "      <td>201.000000</td>\n",
       "      <td>201.000000</td>\n",
       "      <td>201.000000</td>\n",
       "      <td>201.000000</td>\n",
       "    </tr>\n",
       "    <tr>\n",
       "      <th>mean</th>\n",
       "      <td>11.518491</td>\n",
       "      <td>0.743035</td>\n",
       "      <td>0.373731</td>\n",
       "      <td>31.064677</td>\n",
       "      <td>0.410423</td>\n",
       "    </tr>\n",
       "    <tr>\n",
       "      <th>std</th>\n",
       "      <td>0.940970</td>\n",
       "      <td>0.121829</td>\n",
       "      <td>0.192116</td>\n",
       "      <td>20.723195</td>\n",
       "      <td>0.145665</td>\n",
       "    </tr>\n",
       "    <tr>\n",
       "      <th>min</th>\n",
       "      <td>9.500000</td>\n",
       "      <td>0.470000</td>\n",
       "      <td>0.000000</td>\n",
       "      <td>7.000000</td>\n",
       "      <td>0.120000</td>\n",
       "    </tr>\n",
       "    <tr>\n",
       "      <th>25%</th>\n",
       "      <td>10.800000</td>\n",
       "      <td>0.650000</td>\n",
       "      <td>0.310000</td>\n",
       "      <td>16.000000</td>\n",
       "      <td>0.310000</td>\n",
       "    </tr>\n",
       "    <tr>\n",
       "      <th>50%</th>\n",
       "      <td>11.600000</td>\n",
       "      <td>0.740000</td>\n",
       "      <td>0.400000</td>\n",
       "      <td>25.000000</td>\n",
       "      <td>0.370000</td>\n",
       "    </tr>\n",
       "    <tr>\n",
       "      <th>75%</th>\n",
       "      <td>12.200000</td>\n",
       "      <td>0.820000</td>\n",
       "      <td>0.490000</td>\n",
       "      <td>42.000000</td>\n",
       "      <td>0.500000</td>\n",
       "    </tr>\n",
       "    <tr>\n",
       "      <th>max</th>\n",
       "      <td>13.600000</td>\n",
       "      <td>1.130000</td>\n",
       "      <td>0.760000</td>\n",
       "      <td>106.000000</td>\n",
       "      <td>0.915000</td>\n",
       "    </tr>\n",
       "  </tbody>\n",
       "</table>\n",
       "</div>"
      ],
      "text/plain": [
       "          alcohol   sulphates  citric acid  total sulfur dioxide  \\\n",
       "count  201.000000  201.000000   201.000000            201.000000   \n",
       "mean    11.518491    0.743035     0.373731             31.064677   \n",
       "std      0.940970    0.121829     0.192116             20.723195   \n",
       "min      9.500000    0.470000     0.000000              7.000000   \n",
       "25%     10.800000    0.650000     0.310000             16.000000   \n",
       "50%     11.600000    0.740000     0.400000             25.000000   \n",
       "75%     12.200000    0.820000     0.490000             42.000000   \n",
       "max     13.600000    1.130000     0.760000            106.000000   \n",
       "\n",
       "       volatile acidity  \n",
       "count        201.000000  \n",
       "mean           0.410423  \n",
       "std            0.145665  \n",
       "min            0.120000  \n",
       "25%            0.310000  \n",
       "50%            0.370000  \n",
       "75%            0.500000  \n",
       "max            0.915000  "
      ]
     },
     "execution_count": 32,
     "metadata": {},
     "output_type": "execute_result"
    }
   ],
   "source": [
    "# Create a boolean mask to filter the rows where 'good_quality' is 1\n",
    "mask = wine_df['good_quality'] == 1\n",
    "\n",
    "# Use the mask to select the rows from the original DataFrame\n",
    "selected_features = wine_df[mask][['alcohol', 'sulphates', 'citric acid', 'total sulfur dioxide', 'volatile acidity']]\n",
    "\n",
    "# Calculate summary statistics for the selected features\n",
    "selected_features.describe()"
   ]
  },
  {
   "cell_type": "markdown",
   "metadata": {},
   "source": [
    "Based on the summary statistics for the selected features:\n",
    "\n",
    "**Alcohol:** The mean alcohol content is approximately `11.52%`, with a standard deviation of about 0.94. Wines with good quality tend to have slightly higher alcohol content.\n",
    "\n",
    "**Sulphates:** Good-quality wines have a mean sulphates content of around `0.74`, with a standard deviation of roughly 0.12. This indicates that wines with higher sulphates content are more likely to be of good quality.\n",
    "\n",
    "**Citric Acid:** Good-quality wines exhibit a mean citric acid content of approximately `0.37`, with a standard deviation of about 0.19. This shows that maintaining a moderate range of citric acid levels is common in good-quality wines.\n",
    "\n",
    "**Total Sulfur Dioxide:** The mean total sulfur dioxide content in good-quality wines is around `31.06`, with a standard deviation of about 20.72. Good-quality wines tend to have lower total sulfur dioxide levels.\n",
    "\n",
    "**Volatile Acidity:** Good-quality wines have a mean volatile acidity of approximately `0.41`, with a standard deviation of around 0.15. This reiterates the importance of keeping volatile acidity low.\n",
    "\n",
    "- **Next,** we will explore a few more plots to gain more insights after these findings."
   ]
  },
  {
   "cell_type": "code",
   "execution_count": 33,
   "metadata": {},
   "outputs": [
    {
     "data": {
      "image/png": "[encoded data removed]",
      "text/plain": [
       "<Figure size 720x432 with 1 Axes>"
      ]
     },
     "metadata": {
      "needs_background": "light"
     },
     "output_type": "display_data"
    }
   ],
   "source": [
    "# Visualization code for Alcohol Content\n",
    "import matplotlib.pyplot as plt\n",
    "\n",
    "plt.figure(figsize=(10, 6))\n",
    "plt.hist(wine_df[wine_df['good_quality'] == 1]['alcohol'], bins=30, alpha=0.5, label='Good Quality')\n",
    "plt.hist(wine_df[wine_df['good_quality'] == 0]['alcohol'], bins=30, alpha=0.5, label='Non-Good Quality')\n",
    "plt.axvline(11.5, color='r', linestyle='--', label='Optimal Alcohol Content')\n",
    "plt.xlabel('Alcohol Content')\n",
    "plt.ylabel('Frequency')\n",
    "plt.legend()\n",
    "plt.title('Alcohol Content vs. Wine Quality')\n",
    "plt.show()\n"
   ]
  },
  {
   "cell_type": "markdown",
   "metadata": {},
   "source": [
    "#### Alcohol\n",
    "-  Aiming for an alcohol content above `11.5%` will help maximize the chances of achieving good quality. Wines with higher alcohol content tend to be of good quality."
   ]
  },
  {
   "cell_type": "code",
   "execution_count": 34,
   "metadata": {},
   "outputs": [
    {
     "data": {
      "image/png": "[encoded data removed]",
      "text/plain": [
       "<Figure size 576x432 with 1 Axes>"
      ]
     },
     "metadata": {
      "needs_background": "light"
     },
     "output_type": "display_data"
    }
   ],
   "source": [
    "# Visualization code for Sulphates Content\n",
    "import seaborn as sns\n",
    "\n",
    "plt.figure(figsize=(8, 6))\n",
    "sns.boxplot(x='good_quality', y='sulphates', data=wine_df)\n",
    "plt.hlines(y=0.62, xmin=-0.5, xmax=1.5, colors='r', linestyles='--', label='Optimal Sulphates Content')\n",
    "plt.xlabel('Wine Quality')\n",
    "plt.ylabel('Sulphates Content')\n",
    "plt.legend()\n",
    "plt.title('Sulphates Content vs. Wine Quality')\n",
    "plt.show()\n"
   ]
  },
  {
   "cell_type": "markdown",
   "metadata": {},
   "source": [
    "**Sulphates Content:** \n",
    "- Targeting wines with sulphates content above the median value around `0.62` have a better chance of being good quality."
   ]
  },
  {
   "cell_type": "code",
   "execution_count": 35,
   "metadata": {},
   "outputs": [
    {
     "data": {
      "image/png": "[encoded data removed]",
      "text/plain": [
       "<Figure size 720x432 with 1 Axes>"
      ]
     },
     "metadata": {
      "needs_background": "light"
     },
     "output_type": "display_data"
    }
   ],
   "source": [
    "import matplotlib.pyplot as plt\n",
    "\n",
    "# Define the optimal citric acid content\n",
    "optimal_citric_acid = 0.26\n",
    "\n",
    "# Scatter plot with different colors for 'good_quality'\n",
    "plt.figure(figsize=(10, 6))\n",
    "plt.scatter(wine_df[wine_df['good_quality'] == 1]['citric acid'], wine_df[wine_df['good_quality'] == 1]['good_quality'], c='g', label='Good Quality', alpha=0.5)\n",
    "plt.scatter(wine_df[wine_df['good_quality'] == 0]['citric acid'], wine_df[wine_df['good_quality'] == 0]['good_quality'], c='r', label='Non-Good Quality', alpha=0.5)\n",
    "plt.axvline(optimal_citric_acid, color='b', linestyle='--', label='Optimal Citric Acid Content')\n",
    "plt.xlabel('Citric Acid Content')\n",
    "plt.ylabel('Good Quality')\n",
    "plt.legend()\n",
    "plt.title('Citric Acid vs. Wine Quality')\n",
    "plt.show()\n"
   ]
  },
  {
   "cell_type": "markdown",
   "metadata": {},
   "source": [
    "**Citric Acid Content:**\n",
    "Insight: Focus on maintaining a moderate range of citric acid levels (around 0.25) to optimize quality. Citric acid plays a pivotal role in wine production, impacting both its flavor and chemical stabilit."
   ]
  },
  {
   "cell_type": "code",
   "execution_count": 36,
   "metadata": {},
   "outputs": [
    {
     "data": {
      "image/png": "[encoded data removed]",
      "text/plain": [
       "<Figure size 576x432 with 1 Axes>"
      ]
     },
     "metadata": {
      "needs_background": "light"
     },
     "output_type": "display_data"
    }
   ],
   "source": [
    "# Visualization code for Total Sulfur Dioxide\n",
    "plt.figure(figsize=(8, 6))\n",
    "sns.boxplot(x='good_quality', y='total sulfur dioxide', data=wine_df)\n",
    "plt.hlines(y=40, xmin=-0.5, xmax=1.5, colors='r', linestyles='--', label='Optimal Total Sulfur Dioxide')\n",
    "plt.xlabel('Wine Quality')\n",
    "plt.ylabel('Total Sulfur Dioxide Content')\n",
    "plt.legend()\n",
    "plt.title('Total Sulfur Dioxide vs. Wine Quality')\n",
    "plt.show()"
   ]
  },
  {
   "cell_type": "markdown",
   "metadata": {},
   "source": [
    "**Total Sulfur Dioxide:**\n",
    "- Aiming for a total sulfur dioxide content below the median value  around `40` to improve the likelihood of achieving good quality. "
   ]
  },
  {
   "cell_type": "code",
   "execution_count": 37,
   "metadata": {
    "scrolled": true
   },
   "outputs": [
    {
     "data": {
      "image/png": "[encoded data removed]",
      "text/plain": [
       "<Figure size 720x432 with 1 Axes>"
      ]
     },
     "metadata": {
      "needs_background": "light"
     },
     "output_type": "display_data"
    }
   ],
   "source": [
    "# Visualization code for Volatile Acidity\n",
    "plt.figure(figsize=(10, 6))\n",
    "plt.hist(wine_df[wine_df['good_quality'] == 1]['volatile acidity'], bins=30, alpha=0.5, label='Good Quality')\n",
    "plt.hist(wine_df[wine_df['good_quality'] == 0]['volatile acidity'], bins=30, alpha=0.5, label='Non-Good Quality')\n",
    "plt.axvline(0.5, color='r', linestyle='--', label='Optimal Volatile Acidity')\n",
    "plt.xlabel('Volatile Acidity')\n",
    "plt.ylabel('Frequency')\n",
    "plt.legend()\n",
    "plt.title('Volatile Acidity vs. Wine Quality')\n",
    "plt.show()\n"
   ]
  },
  {
   "cell_type": "markdown",
   "metadata": {},
   "source": [
    "**Volatile Acidity:**\n",
    "- Aiming to keep volatile acidity below a certain threshold - around `0.5`, to maximize wine quality. Good-quality wines have significantly lower volatile acidity."
   ]
  },
  {
   "cell_type": "markdown",
   "metadata": {},
   "source": [
    "### Conclusion"
   ]
  },
  {
   "cell_type": "markdown",
   "metadata": {},
   "source": [
    "**Key Findings and Results:**\n",
    "\n",
    "After conducting an in-depth analysis and implementing a tuned Random Forest Classifier, we have achieved the following results:\n",
    "\n",
    "**Hyperparameter Tuning:** After hyperparameter tuning using grid search with cross-validation. The best hyperparameters for the model were identified as `max_depth=20`, `min_samples_leaf=1`, `min_samples_split=2`, and `n_estimators=150`.\n",
    "\n",
    "**Model Performance:**\n",
    "- Accuracy: 0.9064\n",
    "- Precision: 0.9001\n",
    "- Recall: 0.9064\n",
    "- F1 Score: 0.8938\n",
    "\n",
    "**Confusion Matrix:**\n",
    "- True Positives: 370\n",
    "- True Negatives: 27\n",
    "- False Positives: 6\n",
    "- False Negatives: 35\n",
    "\n",
    "**Feature Importance Insights:**\n",
    "We found that the top 5 most influential features in predicting wine quality are:\n",
    "1. Alcohol: Higher alcohol content is positively correlated with wine quality.\n",
    "2. Sulphates: Sulphates positively impact wine quality, acting as preservatives and antioxidants.\n",
    "3. Citric Acid: Citric acid enhances freshness and tartness in wine.\n",
    "4. Total Sulfur Dioxide: Total sulfur dioxide contributes to chemical stability, preventing spoilage and oxidation.\n",
    "5. Volatile Acidity: Lower volatile acidity is preferred to avoid off-flavors.\n",
    "\n",
    "## Recommendations:\n",
    "\n",
    "- **Maintain Alcohol Levels:** Continue to produce wines with higher alcohol content around 11.5%, as it positively influences wine quality. Ensure consistency in alcohol levels.\n",
    "\n",
    "- **Sulphate Management:** Manage and monitor sulphate levels above .62, to preserve wine quality. Maintaining the right balance is crucial for preserving wine stability and quality.\n",
    "\n",
    "- **Citric Acid Usage:** Utilize citric acid strategically to enhance the freshness and tartness of wines where it complements the style. The optimal range for citric acid content is around 0.25.\n",
    "\n",
    "- **Sulfur Dioxide Monitoring:** Continue to monitor and manage total sulfur dioxide levels to maintain chemical stability and avoid spoilage. Aim for a total sulfur dioxide content below the median value of around 40.\n",
    "\n",
    "- **Volatile Acidity Control:** Keep volatile acidity at low levels to prevent off-flavors and enhance overall wine enjoyment. The threshold for volatile acidity should be around 0.5.\n",
    "\n",
    "\n",
    "## Next Steps\n",
    "\n",
    "The next steps should involve using the insights gained from the analysis to inform and optimize winemaking processes, as well as to enhance the winery's overall business strategy. Here are some recommended next steps:\n",
    "\n",
    "- **Data Monitoring:** Regularly update the model as new data becomes available to ensure that it continues to provide accurate assessments of wine quality. Monitor the model's performance over time and retrain it if necessary.\n",
    "\n",
    "- **Data Collection:** Continue to collect and maintain data on chemical properties and quality ratings of wines. A larger and more diverse dataset may further improve the model's predictive capabilities.\n",
    "\n",
    "- **Further Analysis:** Consider conducting additional analyses to explore other factors that may affect wine quality, such as environmental conditions during grape cultivation, fermentation techniques, and aging processes.\n",
    "\n",
    "The developed predictive model can be a valuable tool for the winery to maintain and enhance its commitment to delivering exceptional wine quality consistently. It provides insights into the chemical properties that matter most and offers a data-driven approach to winemaking."
   ]
  },
  {
   "cell_type": "code",
   "execution_count": null,
   "metadata": {},
   "outputs": [],
   "source": []
  }
 ],
 "metadata": {
  "kernelspec": {
   "display_name": "Python 3",
   "language": "python",
   "name": "python3"
  },
  "language_info": {
   "codemirror_mode": {
    "name": "ipython",
    "version": 3
   },
   "file_extension": ".py",
   "mimetype": "text/x-python",
   "name": "python",
   "nbconvert_exporter": "python",
   "pygments_lexer": "ipython3",
   "version": "3.8.5"
  }
 },
 "nbformat": 4,
 "nbformat_minor": 4
}
